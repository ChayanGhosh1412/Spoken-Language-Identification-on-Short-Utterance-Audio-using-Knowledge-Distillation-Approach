{
 "cells": [
  {
   "cell_type": "code",
   "execution_count": 1,
   "id": "fa48f46f",
   "metadata": {},
   "outputs": [],
   "source": [
    "import os\n",
    "import pandas as pd\n",
    "import keras\n",
    "from keras import layers\n",
    "import numpy as np\n",
    "import tensorflow as tf\n",
    "from tensorflow.keras.datasets import mnist\n",
    "import matplotlib.pyplot as plt\n",
    "import librosa\n",
    "from sklearn.model_selection import train_test_split\n",
    "from sklearn.preprocessing import LabelEncoder\n",
    "from sklearn.metrics import accuracy_score\n",
    "from tensorflow import keras\n",
    "from tensorflow.keras import layers, models\n",
    "from tensorflow.keras import regularizers\n",
    "from tensorflow.keras.optimizers import Adam\n",
    "import tensorflow as tf\n",
    "from sklearn.preprocessing import StandardScaler\n",
    "from tensorflow.keras.layers import Conv2D, BatchNormalization, Activation, MaxPooling2D, Dropout, Flatten, Reshape, Dense, Bidirectional, LSTM\n"
   ]
  },
  {
   "cell_type": "code",
   "execution_count": 2,
   "id": "77846d7b",
   "metadata": {},
   "outputs": [
    {
     "data": {
      "text/html": [
       "<div>\n",
       "<style scoped>\n",
       "    .dataframe tbody tr th:only-of-type {\n",
       "        vertical-align: middle;\n",
       "    }\n",
       "\n",
       "    .dataframe tbody tr th {\n",
       "        vertical-align: top;\n",
       "    }\n",
       "\n",
       "    .dataframe thead th {\n",
       "        text-align: right;\n",
       "    }\n",
       "</style>\n",
       "<table border=\"1\" class=\"dataframe\">\n",
       "  <thead>\n",
       "    <tr style=\"text-align: right;\">\n",
       "      <th></th>\n",
       "      <th>FileName</th>\n",
       "      <th>Label</th>\n",
       "    </tr>\n",
       "  </thead>\n",
       "  <tbody>\n",
       "    <tr>\n",
       "      <th>0</th>\n",
       "      <td>common_voice_en_38487408.wav</td>\n",
       "      <td>English</td>\n",
       "    </tr>\n",
       "    <tr>\n",
       "      <th>1</th>\n",
       "      <td>common_voice_en_38487411.wav</td>\n",
       "      <td>English</td>\n",
       "    </tr>\n",
       "    <tr>\n",
       "      <th>2</th>\n",
       "      <td>common_voice_en_38487412.wav</td>\n",
       "      <td>English</td>\n",
       "    </tr>\n",
       "    <tr>\n",
       "      <th>3</th>\n",
       "      <td>common_voice_en_38487413.wav</td>\n",
       "      <td>English</td>\n",
       "    </tr>\n",
       "    <tr>\n",
       "      <th>4</th>\n",
       "      <td>common_voice_en_38487414.wav</td>\n",
       "      <td>English</td>\n",
       "    </tr>\n",
       "  </tbody>\n",
       "</table>\n",
       "</div>"
      ],
      "text/plain": [
       "                       FileName    Label\n",
       "0  common_voice_en_38487408.wav  English\n",
       "1  common_voice_en_38487411.wav  English\n",
       "2  common_voice_en_38487412.wav  English\n",
       "3  common_voice_en_38487413.wav  English\n",
       "4  common_voice_en_38487414.wav  English"
      ]
     },
     "execution_count": 2,
     "metadata": {},
     "output_type": "execute_result"
    }
   ],
   "source": [
    "csv_path_long = 'Total_long_Utterance_file.csv'\n",
    "df_long = pd.read_csv(csv_path_long)\n",
    "df_long.head()"
   ]
  },
  {
   "cell_type": "code",
   "execution_count": 3,
   "id": "6fbc622f",
   "metadata": {},
   "outputs": [
    {
     "data": {
      "text/html": [
       "<div>\n",
       "<style scoped>\n",
       "    .dataframe tbody tr th:only-of-type {\n",
       "        vertical-align: middle;\n",
       "    }\n",
       "\n",
       "    .dataframe tbody tr th {\n",
       "        vertical-align: top;\n",
       "    }\n",
       "\n",
       "    .dataframe thead th {\n",
       "        text-align: right;\n",
       "    }\n",
       "</style>\n",
       "<table border=\"1\" class=\"dataframe\">\n",
       "  <thead>\n",
       "    <tr style=\"text-align: right;\">\n",
       "      <th></th>\n",
       "      <th>FileName</th>\n",
       "      <th>Label</th>\n",
       "    </tr>\n",
       "  </thead>\n",
       "  <tbody>\n",
       "    <tr>\n",
       "      <th>0</th>\n",
       "      <td>common_voice_de_38516119.wav</td>\n",
       "      <td>German</td>\n",
       "    </tr>\n",
       "    <tr>\n",
       "      <th>1</th>\n",
       "      <td>common_voice_en_38491538.wav</td>\n",
       "      <td>English</td>\n",
       "    </tr>\n",
       "    <tr>\n",
       "      <th>2</th>\n",
       "      <td>common_voice_fr_38115546.wav</td>\n",
       "      <td>French</td>\n",
       "    </tr>\n",
       "    <tr>\n",
       "      <th>3</th>\n",
       "      <td>common_voice_pt_38559014.wav</td>\n",
       "      <td>Portuguese</td>\n",
       "    </tr>\n",
       "    <tr>\n",
       "      <th>4</th>\n",
       "      <td>common_voice_ta_37342948.wav</td>\n",
       "      <td>Tamil</td>\n",
       "    </tr>\n",
       "    <tr>\n",
       "      <th>...</th>\n",
       "      <td>...</td>\n",
       "      <td>...</td>\n",
       "    </tr>\n",
       "    <tr>\n",
       "      <th>4994</th>\n",
       "      <td>common_voice_pt_38492927.wav</td>\n",
       "      <td>Portuguese</td>\n",
       "    </tr>\n",
       "    <tr>\n",
       "      <th>4995</th>\n",
       "      <td>common_voice_de_38513517.wav</td>\n",
       "      <td>German</td>\n",
       "    </tr>\n",
       "    <tr>\n",
       "      <th>4996</th>\n",
       "      <td>common_voice_de_38495020.wav</td>\n",
       "      <td>German</td>\n",
       "    </tr>\n",
       "    <tr>\n",
       "      <th>4997</th>\n",
       "      <td>common_voice_ta_37342059.wav</td>\n",
       "      <td>Tamil</td>\n",
       "    </tr>\n",
       "    <tr>\n",
       "      <th>4998</th>\n",
       "      <td>common_voice_fr_38093254.wav</td>\n",
       "      <td>French</td>\n",
       "    </tr>\n",
       "  </tbody>\n",
       "</table>\n",
       "<p>4999 rows × 2 columns</p>\n",
       "</div>"
      ],
      "text/plain": [
       "                          FileName       Label\n",
       "0     common_voice_de_38516119.wav      German\n",
       "1     common_voice_en_38491538.wav     English\n",
       "2     common_voice_fr_38115546.wav      French\n",
       "3     common_voice_pt_38559014.wav  Portuguese\n",
       "4     common_voice_ta_37342948.wav       Tamil\n",
       "...                            ...         ...\n",
       "4994  common_voice_pt_38492927.wav  Portuguese\n",
       "4995  common_voice_de_38513517.wav      German\n",
       "4996  common_voice_de_38495020.wav      German\n",
       "4997  common_voice_ta_37342059.wav       Tamil\n",
       "4998  common_voice_fr_38093254.wav      French\n",
       "\n",
       "[4999 rows x 2 columns]"
      ]
     },
     "execution_count": 3,
     "metadata": {},
     "output_type": "execute_result"
    }
   ],
   "source": [
    "shuffled_df_long = df_long.sample(frac=1).reset_index(drop=True)\n",
    "shuffled_df_long"
   ]
  },
  {
   "cell_type": "code",
   "execution_count": 4,
   "id": "3c51558d",
   "metadata": {},
   "outputs": [
    {
     "data": {
      "text/html": [
       "<div>\n",
       "<style scoped>\n",
       "    .dataframe tbody tr th:only-of-type {\n",
       "        vertical-align: middle;\n",
       "    }\n",
       "\n",
       "    .dataframe tbody tr th {\n",
       "        vertical-align: top;\n",
       "    }\n",
       "\n",
       "    .dataframe thead th {\n",
       "        text-align: right;\n",
       "    }\n",
       "</style>\n",
       "<table border=\"1\" class=\"dataframe\">\n",
       "  <thead>\n",
       "    <tr style=\"text-align: right;\">\n",
       "      <th></th>\n",
       "      <th>FileName</th>\n",
       "      <th>Label</th>\n",
       "    </tr>\n",
       "  </thead>\n",
       "  <tbody>\n",
       "    <tr>\n",
       "      <th>0</th>\n",
       "      <td>common_voice_en_38487409.wav</td>\n",
       "      <td>English</td>\n",
       "    </tr>\n",
       "    <tr>\n",
       "      <th>1</th>\n",
       "      <td>common_voice_en_38487410.wav</td>\n",
       "      <td>English</td>\n",
       "    </tr>\n",
       "    <tr>\n",
       "      <th>2</th>\n",
       "      <td>common_voice_en_38487420.wav</td>\n",
       "      <td>English</td>\n",
       "    </tr>\n",
       "    <tr>\n",
       "      <th>3</th>\n",
       "      <td>common_voice_en_38487556.wav</td>\n",
       "      <td>English</td>\n",
       "    </tr>\n",
       "    <tr>\n",
       "      <th>4</th>\n",
       "      <td>common_voice_en_38491060.wav</td>\n",
       "      <td>English</td>\n",
       "    </tr>\n",
       "  </tbody>\n",
       "</table>\n",
       "</div>"
      ],
      "text/plain": [
       "                       FileName    Label\n",
       "0  common_voice_en_38487409.wav  English\n",
       "1  common_voice_en_38487410.wav  English\n",
       "2  common_voice_en_38487420.wav  English\n",
       "3  common_voice_en_38487556.wav  English\n",
       "4  common_voice_en_38491060.wav  English"
      ]
     },
     "execution_count": 4,
     "metadata": {},
     "output_type": "execute_result"
    }
   ],
   "source": [
    "csv_path_short = 'Total_short_Utterance_file.csv'\n",
    "df_short = pd.read_csv(csv_path_short)\n",
    "df_short.head()"
   ]
  },
  {
   "cell_type": "code",
   "execution_count": 5,
   "id": "0c2efc6b",
   "metadata": {},
   "outputs": [
    {
     "data": {
      "text/html": [
       "<div>\n",
       "<style scoped>\n",
       "    .dataframe tbody tr th:only-of-type {\n",
       "        vertical-align: middle;\n",
       "    }\n",
       "\n",
       "    .dataframe tbody tr th {\n",
       "        vertical-align: top;\n",
       "    }\n",
       "\n",
       "    .dataframe thead th {\n",
       "        text-align: right;\n",
       "    }\n",
       "</style>\n",
       "<table border=\"1\" class=\"dataframe\">\n",
       "  <thead>\n",
       "    <tr style=\"text-align: right;\">\n",
       "      <th></th>\n",
       "      <th>FileName</th>\n",
       "      <th>Label</th>\n",
       "    </tr>\n",
       "  </thead>\n",
       "  <tbody>\n",
       "    <tr>\n",
       "      <th>0</th>\n",
       "      <td>common_voice_fr_38177477.wav</td>\n",
       "      <td>French</td>\n",
       "    </tr>\n",
       "    <tr>\n",
       "      <th>1</th>\n",
       "      <td>common_voice_ta_37327405.wav</td>\n",
       "      <td>Tamil</td>\n",
       "    </tr>\n",
       "    <tr>\n",
       "      <th>2</th>\n",
       "      <td>common_voice_ta_31875842.wav</td>\n",
       "      <td>Tamil</td>\n",
       "    </tr>\n",
       "    <tr>\n",
       "      <th>3</th>\n",
       "      <td>common_voice_ta_31866438.wav</td>\n",
       "      <td>Tamil</td>\n",
       "    </tr>\n",
       "    <tr>\n",
       "      <th>4</th>\n",
       "      <td>common_voice_ta_37342478.wav</td>\n",
       "      <td>Tamil</td>\n",
       "    </tr>\n",
       "    <tr>\n",
       "      <th>...</th>\n",
       "      <td>...</td>\n",
       "      <td>...</td>\n",
       "    </tr>\n",
       "    <tr>\n",
       "      <th>2495</th>\n",
       "      <td>common_voice_de_38541679.wav</td>\n",
       "      <td>German</td>\n",
       "    </tr>\n",
       "    <tr>\n",
       "      <th>2496</th>\n",
       "      <td>common_voice_de_38516062.wav</td>\n",
       "      <td>German</td>\n",
       "    </tr>\n",
       "    <tr>\n",
       "      <th>2497</th>\n",
       "      <td>common_voice_ta_31866318.wav</td>\n",
       "      <td>Tamil</td>\n",
       "    </tr>\n",
       "    <tr>\n",
       "      <th>2498</th>\n",
       "      <td>common_voice_de_38508628.wav</td>\n",
       "      <td>German</td>\n",
       "    </tr>\n",
       "    <tr>\n",
       "      <th>2499</th>\n",
       "      <td>common_voice_pt_38493019.wav</td>\n",
       "      <td>Portuguese</td>\n",
       "    </tr>\n",
       "  </tbody>\n",
       "</table>\n",
       "<p>2500 rows × 2 columns</p>\n",
       "</div>"
      ],
      "text/plain": [
       "                          FileName       Label\n",
       "0     common_voice_fr_38177477.wav      French\n",
       "1     common_voice_ta_37327405.wav       Tamil\n",
       "2     common_voice_ta_31875842.wav       Tamil\n",
       "3     common_voice_ta_31866438.wav       Tamil\n",
       "4     common_voice_ta_37342478.wav       Tamil\n",
       "...                            ...         ...\n",
       "2495  common_voice_de_38541679.wav      German\n",
       "2496  common_voice_de_38516062.wav      German\n",
       "2497  common_voice_ta_31866318.wav       Tamil\n",
       "2498  common_voice_de_38508628.wav      German\n",
       "2499  common_voice_pt_38493019.wav  Portuguese\n",
       "\n",
       "[2500 rows x 2 columns]"
      ]
     },
     "execution_count": 5,
     "metadata": {},
     "output_type": "execute_result"
    }
   ],
   "source": [
    "shuffled_df_short = df_short.sample(frac=1).reset_index(drop=True)\n",
    "shuffled_df_short"
   ]
  },
  {
   "cell_type": "code",
   "execution_count": 6,
   "id": "c741856a",
   "metadata": {},
   "outputs": [],
   "source": [
    "audio_dir_long = 'LongShortUtteranceData/'\n",
    "audio_dir_short = 'LongShortUtteranceData/'"
   ]
  },
  {
   "cell_type": "code",
   "execution_count": 7,
   "id": "958d01ef",
   "metadata": {},
   "outputs": [],
   "source": [
    "def load_and_preprocess(file_path, start_time, end_time, sr=16000):\n",
    "    audio, sr = librosa.load(file_path, sr=sr, offset=start_time, duration=end_time - start_time)\n",
    "    mfccs = librosa.feature.mfcc(y=audio, sr=sr, n_mfcc=13,win_length = 512,hop_length = 256,n_fft = 512)#win_length = 32,hop_length = 256,n_fft = 512)\n",
    "    return mfccs.T"
   ]
  },
  {
   "cell_type": "code",
   "execution_count": 8,
   "id": "27f5aa0a",
   "metadata": {},
   "outputs": [],
   "source": [
    "# Create a list to store MFCCs and labels\n",
    "mfccs_list = []\n",
    "labels = []"
   ]
  },
  {
   "cell_type": "code",
   "execution_count": 9,
   "id": "4716bddd",
   "metadata": {},
   "outputs": [
    {
     "name": "stderr",
     "output_type": "stream",
     "text": [
      "C:\\Users\\ASUS\\AppData\\Local\\Temp\\ipykernel_29628\\805225799.py:3: FutureWarning: get_duration() keyword argument 'filename' has been renamed to 'path' in version 0.10.0.\n",
      "\tThis alias will be removed in version 1.0.\n",
      "  audio_duration = librosa.get_duration(filename=file_path)\n",
      "C:\\Users\\ASUS\\AppData\\Local\\Temp\\ipykernel_29628\\805225799.py:3: FutureWarning: get_duration() keyword argument 'filename' has been renamed to 'path' in version 0.10.0.\n",
      "\tThis alias will be removed in version 1.0.\n",
      "  audio_duration = librosa.get_duration(filename=file_path)\n",
      "C:\\Users\\ASUS\\anaconda3\\envs\\LocalGpu\\lib\\site-packages\\librosa\\core\\spectrum.py:266: UserWarning: n_fft=512 is too large for input signal of length=64\n",
      "  warnings.warn(\n",
      "C:\\Users\\ASUS\\anaconda3\\envs\\LocalGpu\\lib\\site-packages\\librosa\\core\\spectrum.py:266: UserWarning: n_fft=512 is too large for input signal of length=384\n",
      "  warnings.warn(\n",
      "C:\\Users\\ASUS\\anaconda3\\envs\\LocalGpu\\lib\\site-packages\\librosa\\core\\spectrum.py:266: UserWarning: n_fft=512 is too large for input signal of length=128\n",
      "  warnings.warn(\n"
     ]
    }
   ],
   "source": [
    "for index, row in shuffled_df_long.iterrows():\n",
    "    file_path = os.path.join(audio_dir_long, row['FileName'])\n",
    "    audio_duration = librosa.get_duration(filename=file_path)\n",
    "    \n",
    "    offset = 0\n",
    "    while offset < audio_duration:\n",
    "        end_time = min(offset + 2.5, audio_duration)  # Ensure end_time does not exceed audio duration\n",
    "        mfccs = load_and_preprocess(file_path, offset, end_time)\n",
    "        mfccs_list.append(mfccs)\n",
    "        labels.append(row['Label'])\n",
    "        offset += 2.5"
   ]
  },
  {
   "cell_type": "code",
   "execution_count": 10,
   "id": "b105a175",
   "metadata": {},
   "outputs": [
    {
     "name": "stdout",
     "output_type": "stream",
     "text": [
      "14996\n",
      "14996\n"
     ]
    }
   ],
   "source": [
    "print(len(mfccs_list))\n",
    "print(len(labels))"
   ]
  },
  {
   "cell_type": "code",
   "execution_count": 11,
   "id": "7503fb84",
   "metadata": {},
   "outputs": [
    {
     "name": "stdout",
     "output_type": "stream",
     "text": [
      "(14996, 157, 13)\n"
     ]
    }
   ],
   "source": [
    "import numpy as np\n",
    "from tensorflow.keras.preprocessing.sequence import pad_sequences\n",
    "\n",
    "padded_mfccs_long = pad_sequences(mfccs_list, dtype='float32', padding='post', truncating='post')\n",
    "\n",
    "print(padded_mfccs_long.shape)"
   ]
  },
  {
   "cell_type": "code",
   "execution_count": 12,
   "id": "d7942cb4",
   "metadata": {},
   "outputs": [],
   "source": [
    "mfccs_array = np.array(padded_mfccs_long)"
   ]
  },
  {
   "cell_type": "code",
   "execution_count": 13,
   "id": "f65d8e27",
   "metadata": {},
   "outputs": [],
   "source": [
    "# Flatten MFCCs array to 2D\n",
    "mfccs_flattened = mfccs_array.reshape(-1, mfccs_array.shape[-1])"
   ]
  },
  {
   "cell_type": "code",
   "execution_count": 14,
   "id": "ef24ffe6",
   "metadata": {},
   "outputs": [],
   "source": [
    "# Scale the MFCCs data\n",
    "scaler = StandardScaler()\n",
    "mfccs_scaled = scaler.fit_transform(mfccs_flattened)"
   ]
  },
  {
   "cell_type": "code",
   "execution_count": 15,
   "id": "f0fa536d",
   "metadata": {},
   "outputs": [],
   "source": [
    "# data back to 3D\n",
    "mfccs_scaled_3d = mfccs_scaled.reshape(mfccs_array.shape[0], mfccs_array.shape[1], mfccs_array.shape[2])"
   ]
  },
  {
   "cell_type": "code",
   "execution_count": 16,
   "id": "9a4e6fb9",
   "metadata": {},
   "outputs": [],
   "source": [
    "X = np.array(mfccs_scaled_3d)\n",
    "y = np.array(labels)"
   ]
  },
  {
   "cell_type": "code",
   "execution_count": 17,
   "id": "e78ab07b",
   "metadata": {},
   "outputs": [],
   "source": [
    "le = LabelEncoder()\n",
    "y_encoded = le.fit_transform(y)"
   ]
  },
  {
   "cell_type": "code",
   "execution_count": 18,
   "id": "1a5c6028",
   "metadata": {},
   "outputs": [
    {
     "name": "stdout",
     "output_type": "stream",
     "text": [
      "Encoded Labels:\n",
      "0: English\n",
      "1: French\n",
      "2: German\n",
      "3: Portuguese\n",
      "4: Tamil\n"
     ]
    }
   ],
   "source": [
    "print(\"Encoded Labels:\")\n",
    "for encoded_label, original_label in zip(range(len(le.classes_)), le.classes_):\n",
    "    print(f\"{encoded_label}: {original_label}\")"
   ]
  },
  {
   "cell_type": "code",
   "execution_count": 19,
   "id": "f3b536c2",
   "metadata": {},
   "outputs": [],
   "source": [
    "# Split the data into 80% training and 20% remaining data\n",
    "X_train, X_remaining, y_train, y_remaining = train_test_split(X, y_encoded, test_size=0.2, random_state=42)\n",
    "\n",
    "# Split the remaining data into 50% validation and 50% test\n",
    "X_validation, X_test, y_validation, y_test= train_test_split(X_remaining, y_remaining, test_size=0.5, random_state=42)"
   ]
  },
  {
   "cell_type": "code",
   "execution_count": 20,
   "id": "3954876a",
   "metadata": {},
   "outputs": [],
   "source": [
    "# Save the training data\n",
    "np.save('2D_CNN_train_data/X_train.npy', X_train)\n",
    "np.save('2D_CNN_train_data/y_train.npy', y_train)\n",
    "\n",
    "# Save the validation data\n",
    "np.save('2D_CNN_train_data/X_validation.npy', X_validation)\n",
    "np.save('2D_CNN_train_data/y_validation.npy', y_validation)\n",
    "\n",
    "# Save the test data\n",
    "np.save('2D_CNN_train_data/X_test.npy', X_test)\n",
    "np.save('2D_CNN_train_data/y_test.npy', y_test)"
   ]
  },
  {
   "cell_type": "code",
   "execution_count": 20,
   "id": "b3bbe099",
   "metadata": {},
   "outputs": [],
   "source": [
    "class Distiller(keras.Model):\n",
    "    def __init__(self, student, teacher):\n",
    "        super().__init__()\n",
    "        self.teacher = teacher\n",
    "        self.student = student\n",
    "\n",
    "    \n",
    "    def call(self, inputs):\n",
    "        # Forward pass of the student model\n",
    "        return self.student(inputs)\n",
    "    \n",
    "    def compile(\n",
    "        self,\n",
    "        optimizer,\n",
    "        metrics,\n",
    "        student_loss_fn,\n",
    "        distillation_loss_fn,\n",
    "        alpha=0.1,\n",
    "        temperature=3,\n",
    "    ):\n",
    "        \"\"\" Configure the distiller.\n",
    "\n",
    "        Args:\n",
    "            optimizer: Keras optimizer for the student weights\n",
    "            metrics: Keras metrics for evaluation\n",
    "            student_loss_fn: Loss function of difference between student\n",
    "                predictions and ground-truth\n",
    "            distillation_loss_fn: Loss function of difference between soft\n",
    "                student predictions and soft teacher predictions\n",
    "            alpha: weight to student_loss_fn and 1-alpha to distillation_loss_fn\n",
    "            temperature: Temperature for softening probability distributions.\n",
    "                Larger temperature gives softer distributions.\n",
    "        \"\"\"\n",
    "        super().compile(optimizer=optimizer, metrics=metrics)\n",
    "        self.student_loss_fn = student_loss_fn\n",
    "        self.distillation_loss_fn = distillation_loss_fn\n",
    "        self.alpha = alpha\n",
    "        self.temperature = temperature\n",
    "\n",
    "    def train_step(self, data):\n",
    "        # Unpack data\n",
    "        x, y = data\n",
    "\n",
    "        # Forward pass of teacher\n",
    "        teacher_predictions = self.teacher(x, training=False)\n",
    "\n",
    "        with tf.GradientTape() as tape:\n",
    "            # Forward pass of student\n",
    "            student_predictions = self.student(x, training=True)\n",
    "\n",
    "            # Compute losses\n",
    "            student_loss = self.student_loss_fn(y, student_predictions)\n",
    "\n",
    "            # Compute scaled distillation loss from https://arxiv.org/abs/1503.02531\n",
    "            # The magnitudes of the gradients produced by the soft targets scale\n",
    "            # as 1/T^2, multiply them by T^2 when using both hard and soft targets.\n",
    "            distillation_loss = (\n",
    "                self.distillation_loss_fn(\n",
    "                    tf.nn.softmax(teacher_predictions / self.temperature, axis=1),\n",
    "                    tf.nn.softmax(student_predictions / self.temperature, axis=1),\n",
    "                )\n",
    "                * self.temperature**2\n",
    "            )\n",
    "\n",
    "            loss = self.alpha * student_loss + (1 - self.alpha) * distillation_loss\n",
    "\n",
    "        # Compute gradients\n",
    "        trainable_vars = self.student.trainable_variables\n",
    "        gradients = tape.gradient(loss, trainable_vars)\n",
    "\n",
    "        # Update weights\n",
    "        self.optimizer.apply_gradients(zip(gradients, trainable_vars))\n",
    "\n",
    "        # Update the metrics configured in `compile()`.\n",
    "        self.compiled_metrics.update_state(y, student_predictions)\n",
    "\n",
    "        # Return a dict of performance\n",
    "        results = {m.name: m.result() for m in self.metrics}\n",
    "        results.update(\n",
    "            {\"student_loss\": student_loss, \"distillation_loss\": distillation_loss}\n",
    "        )\n",
    "        return results\n",
    "\n",
    "    def test_step(self, data):\n",
    "        # Unpack the data\n",
    "        x, y = data\n",
    "\n",
    "        # Compute predictions\n",
    "        y_prediction = self.student(x, training=False)\n",
    "\n",
    "        # Calculate the loss\n",
    "        student_loss = self.student_loss_fn(y, y_prediction)\n",
    "\n",
    "        # Update the metrics.\n",
    "        self.compiled_metrics.update_state(y, y_prediction)\n",
    "\n",
    "        # Return a dict of performance\n",
    "        results = {m.name: m.result() for m in self.metrics}\n",
    "        results.update({\"student_loss\": student_loss})\n",
    "        return results\n",
    "    def predict_step(self, data):\n",
    "        # Unpack the data\n",
    "        x = data\n",
    "\n",
    "        # Compute predictions\n",
    "        return self.student(x, training=False)"
   ]
  },
  {
   "cell_type": "code",
   "execution_count": 69,
   "id": "d40dd771",
   "metadata": {},
   "outputs": [],
   "source": [
    "from tensorflow.keras import layers\n",
    "\n",
    "teacher = keras.Sequential(\n",
    "    [  \n",
    "        layers.Conv2D(32, (3, 3), name='1st_Conv2D', padding='same', input_shape=(X.shape[1], X.shape[2], 1), kernel_initializer='he_normal'),\n",
    "        layers.BatchNormalization(name='1st_BatchNormalization'),\n",
    "        layers.Activation('relu'),\n",
    "        layers.MaxPooling2D(pool_size=(2,2), name='1st_MaxPooling2D'),\n",
    "        \n",
    "        layers.Conv2D(64, (3, 3), name='2nd_Conv2D', padding='same', kernel_initializer='he_normal'),\n",
    "        layers.BatchNormalization(name='2nd_BatchNormalization'),\n",
    "        layers.Activation('relu'),\n",
    "        layers.MaxPooling2D(pool_size=(2,2), name='2nd_MaxPooling2D'),\n",
    "        layers.Dropout(0.3),\n",
    "       \n",
    "        layers.Conv2D(128, (3, 3), name='3rd_Conv2D', padding='same', kernel_initializer='he_normal'),\n",
    "        layers.BatchNormalization(name='3rd_BatchNormalization'),\n",
    "        layers.Activation('relu'),\n",
    "        layers.MaxPooling2D(pool_size=(1,2), name='3rd_MaxPooling2D'),\n",
    "        layers.Dropout(0.3),\n",
    "    \n",
    "        layers.Flatten(name='Flatten'),\n",
    "        \n",
    "        layers.Dense(64, name='Dense', activation='relu', kernel_initializer='he_normal'),\n",
    "        \n",
    "        layers.Reshape(target_shape=(64, -1)),  # Reshape output to (batch_size, timesteps, input_dim)\n",
    "        \n",
    "        layers.Bidirectional(layers.LSTM(128, name='LSTM', return_sequences=False)),\n",
    "        \n",
    "        layers.Dense(5, activation='softmax')\n",
    "\n",
    "    ],\n",
    "    name=\"teacher\",\n",
    ")\n",
    "\n",
    "\n",
    "\n",
    "\n",
    "\n"
   ]
  },
  {
   "cell_type": "code",
   "execution_count": 70,
   "id": "fa8b763a",
   "metadata": {},
   "outputs": [
    {
     "name": "stdout",
     "output_type": "stream",
     "text": [
      "Model: \"teacher\"\n",
      "_________________________________________________________________\n",
      "Layer (type)                 Output Shape              Param #   \n",
      "=================================================================\n",
      "1st_Conv2D (Conv2D)          (None, 157, 13, 32)       320       \n",
      "_________________________________________________________________\n",
      "1st_BatchNormalization (Batc (None, 157, 13, 32)       128       \n",
      "_________________________________________________________________\n",
      "activation_6 (Activation)    (None, 157, 13, 32)       0         \n",
      "_________________________________________________________________\n",
      "1st_MaxPooling2D (MaxPooling (None, 78, 6, 32)         0         \n",
      "_________________________________________________________________\n",
      "2nd_Conv2D (Conv2D)          (None, 78, 6, 64)         18496     \n",
      "_________________________________________________________________\n",
      "2nd_BatchNormalization (Batc (None, 78, 6, 64)         256       \n",
      "_________________________________________________________________\n",
      "activation_7 (Activation)    (None, 78, 6, 64)         0         \n",
      "_________________________________________________________________\n",
      "2nd_MaxPooling2D (MaxPooling (None, 39, 3, 64)         0         \n",
      "_________________________________________________________________\n",
      "dropout_4 (Dropout)          (None, 39, 3, 64)         0         \n",
      "_________________________________________________________________\n",
      "3rd_Conv2D (Conv2D)          (None, 39, 3, 128)        73856     \n",
      "_________________________________________________________________\n",
      "3rd_BatchNormalization (Batc (None, 39, 3, 128)        512       \n",
      "_________________________________________________________________\n",
      "activation_8 (Activation)    (None, 39, 3, 128)        0         \n",
      "_________________________________________________________________\n",
      "3rd_MaxPooling2D (MaxPooling (None, 39, 1, 128)        0         \n",
      "_________________________________________________________________\n",
      "dropout_5 (Dropout)          (None, 39, 1, 128)        0         \n",
      "_________________________________________________________________\n",
      "Flatten (Flatten)            (None, 4992)              0         \n",
      "_________________________________________________________________\n",
      "Dense (Dense)                (None, 64)                319552    \n",
      "_________________________________________________________________\n",
      "reshape_2 (Reshape)          (None, 64, 1)             0         \n",
      "_________________________________________________________________\n",
      "bidirectional_2 (Bidirection (None, 256)               133120    \n",
      "_________________________________________________________________\n",
      "dense_2 (Dense)              (None, 5)                 1285      \n",
      "=================================================================\n",
      "Total params: 547,525\n",
      "Trainable params: 547,077\n",
      "Non-trainable params: 448\n",
      "_________________________________________________________________\n",
      "None\n"
     ]
    }
   ],
   "source": [
    "print(teacher.summary())"
   ]
  },
  {
   "cell_type": "code",
   "execution_count": 71,
   "id": "e64eb87d",
   "metadata": {},
   "outputs": [],
   "source": [
    "student = keras.Sequential(\n",
    "    [  \n",
    "        layers.Conv2D(16, (3, 3), name='1st_Conv2D', padding='same', input_shape=(X.shape[1], X.shape[2], 1), kernel_initializer='he_normal'),\n",
    "        layers.BatchNormalization(name='1st_BatchNormalization'),\n",
    "        layers.Activation('relu'),\n",
    "        layers.MaxPooling2D(pool_size=(2,2), name='1st_MaxPooling2D'),\n",
    "        \n",
    "        layers.Conv2D(32, (3, 3), name='2nd_Conv2D', padding='same', kernel_initializer='he_normal'),\n",
    "        layers.BatchNormalization(name='2nd_BatchNormalization'),\n",
    "        layers.Activation('relu'),\n",
    "        layers.MaxPooling2D(pool_size=(2,2), name='2nd_MaxPooling2D'),\n",
    "        layers.Dropout(0.3),\n",
    "       \n",
    "        layers.Conv2D(64, (3, 3), name='3rd_Conv2D', padding='same', kernel_initializer='he_normal'),\n",
    "        layers.BatchNormalization(name='3rd_BatchNormalization'),\n",
    "        layers.Activation('relu'),\n",
    "        layers.MaxPooling2D(pool_size=(1,2), name='3rd_MaxPooling2D'),\n",
    "        layers.Dropout(0.3),\n",
    "        \n",
    "        layers.Flatten(name='Flatten'),\n",
    "        \n",
    "        layers.Dense(64, name='Dense', activation='relu', kernel_initializer='he_normal'),\n",
    "        \n",
    "        layers.Reshape(target_shape=(64, -1)),  # Reshape output to (batch_size, timesteps, input_dim)\n",
    "        \n",
    "        layers.Bidirectional(layers.LSTM(128, name='LSTM', return_sequences=False)),\n",
    "        \n",
    "        layers.Dense(5, activation='softmax')\n",
    "\n",
    "    ],\n",
    "    name=\"student\",\n",
    ")"
   ]
  },
  {
   "cell_type": "code",
   "execution_count": 72,
   "id": "07410018",
   "metadata": {},
   "outputs": [
    {
     "name": "stdout",
     "output_type": "stream",
     "text": [
      "Model: \"student\"\n",
      "_________________________________________________________________\n",
      "Layer (type)                 Output Shape              Param #   \n",
      "=================================================================\n",
      "1st_Conv2D (Conv2D)          (None, 157, 13, 16)       160       \n",
      "_________________________________________________________________\n",
      "1st_BatchNormalization (Batc (None, 157, 13, 16)       64        \n",
      "_________________________________________________________________\n",
      "activation_9 (Activation)    (None, 157, 13, 16)       0         \n",
      "_________________________________________________________________\n",
      "1st_MaxPooling2D (MaxPooling (None, 78, 6, 16)         0         \n",
      "_________________________________________________________________\n",
      "2nd_Conv2D (Conv2D)          (None, 78, 6, 32)         4640      \n",
      "_________________________________________________________________\n",
      "2nd_BatchNormalization (Batc (None, 78, 6, 32)         128       \n",
      "_________________________________________________________________\n",
      "activation_10 (Activation)   (None, 78, 6, 32)         0         \n",
      "_________________________________________________________________\n",
      "2nd_MaxPooling2D (MaxPooling (None, 39, 3, 32)         0         \n",
      "_________________________________________________________________\n",
      "dropout_6 (Dropout)          (None, 39, 3, 32)         0         \n",
      "_________________________________________________________________\n",
      "3rd_Conv2D (Conv2D)          (None, 39, 3, 64)         18496     \n",
      "_________________________________________________________________\n",
      "3rd_BatchNormalization (Batc (None, 39, 3, 64)         256       \n",
      "_________________________________________________________________\n",
      "activation_11 (Activation)   (None, 39, 3, 64)         0         \n",
      "_________________________________________________________________\n",
      "3rd_MaxPooling2D (MaxPooling (None, 39, 1, 64)         0         \n",
      "_________________________________________________________________\n",
      "dropout_7 (Dropout)          (None, 39, 1, 64)         0         \n",
      "_________________________________________________________________\n",
      "Flatten (Flatten)            (None, 2496)              0         \n",
      "_________________________________________________________________\n",
      "Dense (Dense)                (None, 64)                159808    \n",
      "_________________________________________________________________\n",
      "reshape_3 (Reshape)          (None, 64, 1)             0         \n",
      "_________________________________________________________________\n",
      "bidirectional_3 (Bidirection (None, 256)               133120    \n",
      "_________________________________________________________________\n",
      "dense_3 (Dense)              (None, 5)                 1285      \n",
      "=================================================================\n",
      "Total params: 317,957\n",
      "Trainable params: 317,733\n",
      "Non-trainable params: 224\n",
      "_________________________________________________________________\n"
     ]
    }
   ],
   "source": [
    "student.summary()"
   ]
  },
  {
   "cell_type": "code",
   "execution_count": 73,
   "id": "b40202ba",
   "metadata": {},
   "outputs": [
    {
     "data": {
      "text/plain": [
       "(11996, 157, 13, 1)"
      ]
     },
     "execution_count": 73,
     "metadata": {},
     "output_type": "execute_result"
    }
   ],
   "source": [
    "X_train.shape"
   ]
  },
  {
   "cell_type": "code",
   "execution_count": 74,
   "id": "9cdb6ea0",
   "metadata": {},
   "outputs": [],
   "source": [
    "X_train = X_train.reshape(X_train.shape + (1,))\n",
    "X_test = X_test.reshape(X_test.shape + (1,))\n",
    "X_validation = X_validation.reshape(X_validation.shape + (1,))\n"
   ]
  },
  {
   "cell_type": "code",
   "execution_count": 75,
   "id": "16875f21",
   "metadata": {},
   "outputs": [
    {
     "data": {
      "text/plain": [
       "(11996, 157, 13, 1, 1)"
      ]
     },
     "execution_count": 75,
     "metadata": {},
     "output_type": "execute_result"
    }
   ],
   "source": [
    "X_train.shape"
   ]
  },
  {
   "cell_type": "code",
   "execution_count": 76,
   "id": "a59d9acc",
   "metadata": {
    "scrolled": true
   },
   "outputs": [
    {
     "name": "stdout",
     "output_type": "stream",
     "text": [
      "Epoch 1/100\n"
     ]
    },
    {
     "name": "stderr",
     "output_type": "stream",
     "text": [
      "C:\\Users\\ASUS\\anaconda3\\envs\\LocalGpu\\lib\\site-packages\\keras\\backend.py:4906: UserWarning: \"`sparse_categorical_crossentropy` received `from_logits=True`, but the `output` argument was produced by a sigmoid or softmax activation and thus does not represent logits. Was this intended?\"\n",
      "  warnings.warn(\n"
     ]
    },
    {
     "name": "stdout",
     "output_type": "stream",
     "text": [
      "375/375 [==============================] - 12s 21ms/step - loss: 1.2100 - sparse_categorical_accuracy: 0.4471 - val_loss: 0.9929 - val_sparse_categorical_accuracy: 0.5880\n",
      "Epoch 2/100\n",
      "375/375 [==============================] - 7s 19ms/step - loss: 0.9401 - sparse_categorical_accuracy: 0.6119 - val_loss: 0.9147 - val_sparse_categorical_accuracy: 0.6407\n",
      "Epoch 3/100\n",
      "375/375 [==============================] - 7s 19ms/step - loss: 0.7352 - sparse_categorical_accuracy: 0.7180 - val_loss: 0.9794 - val_sparse_categorical_accuracy: 0.6640\n",
      "Epoch 4/100\n",
      "375/375 [==============================] - 7s 19ms/step - loss: 0.6290 - sparse_categorical_accuracy: 0.7698 - val_loss: 0.5854 - val_sparse_categorical_accuracy: 0.7907\n",
      "Epoch 5/100\n",
      "375/375 [==============================] - 8s 20ms/step - loss: 0.5649 - sparse_categorical_accuracy: 0.7930 - val_loss: 1.1722 - val_sparse_categorical_accuracy: 0.6073\n",
      "Epoch 6/100\n",
      "375/375 [==============================] - 8s 20ms/step - loss: 0.5194 - sparse_categorical_accuracy: 0.8124 - val_loss: 0.6958 - val_sparse_categorical_accuracy: 0.7640\n",
      "Epoch 7/100\n",
      "375/375 [==============================] - 7s 20ms/step - loss: 0.4756 - sparse_categorical_accuracy: 0.8260 - val_loss: 0.5984 - val_sparse_categorical_accuracy: 0.7820\n",
      "Epoch 8/100\n",
      "375/375 [==============================] - 7s 19ms/step - loss: 0.4541 - sparse_categorical_accuracy: 0.8377 - val_loss: 0.4810 - val_sparse_categorical_accuracy: 0.8280\n",
      "Epoch 9/100\n",
      "375/375 [==============================] - 7s 20ms/step - loss: 0.4234 - sparse_categorical_accuracy: 0.8497 - val_loss: 0.4522 - val_sparse_categorical_accuracy: 0.8520\n",
      "Epoch 10/100\n",
      "375/375 [==============================] - 7s 20ms/step - loss: 0.4021 - sparse_categorical_accuracy: 0.8550 - val_loss: 1.1006 - val_sparse_categorical_accuracy: 0.6913\n",
      "Epoch 11/100\n",
      "375/375 [==============================] - 7s 19ms/step - loss: 0.3769 - sparse_categorical_accuracy: 0.8655 - val_loss: 0.4924 - val_sparse_categorical_accuracy: 0.8373\n",
      "Epoch 12/100\n",
      "375/375 [==============================] - 7s 19ms/step - loss: 0.3582 - sparse_categorical_accuracy: 0.8697 - val_loss: 0.5039 - val_sparse_categorical_accuracy: 0.8360\n",
      "Epoch 13/100\n",
      "375/375 [==============================] - 7s 20ms/step - loss: 0.3398 - sparse_categorical_accuracy: 0.8802 - val_loss: 0.4629 - val_sparse_categorical_accuracy: 0.8467\n",
      "Epoch 14/100\n",
      "375/375 [==============================] - 7s 20ms/step - loss: 0.3192 - sparse_categorical_accuracy: 0.8871 - val_loss: 0.4269 - val_sparse_categorical_accuracy: 0.8473\n",
      "Epoch 15/100\n",
      "375/375 [==============================] - 7s 20ms/step - loss: 0.3072 - sparse_categorical_accuracy: 0.8886 - val_loss: 0.6716 - val_sparse_categorical_accuracy: 0.8067\n",
      "Epoch 16/100\n",
      "375/375 [==============================] - 7s 20ms/step - loss: 0.2926 - sparse_categorical_accuracy: 0.8937 - val_loss: 0.6485 - val_sparse_categorical_accuracy: 0.8120\n",
      "Epoch 17/100\n",
      "375/375 [==============================] - 7s 20ms/step - loss: 0.2898 - sparse_categorical_accuracy: 0.8972 - val_loss: 0.5011 - val_sparse_categorical_accuracy: 0.8333\n",
      "Epoch 18/100\n",
      "375/375 [==============================] - 7s 20ms/step - loss: 0.2716 - sparse_categorical_accuracy: 0.9030 - val_loss: 0.4783 - val_sparse_categorical_accuracy: 0.8533\n",
      "Epoch 19/100\n",
      "375/375 [==============================] - 7s 19ms/step - loss: 0.2617 - sparse_categorical_accuracy: 0.9051 - val_loss: 0.4521 - val_sparse_categorical_accuracy: 0.8500\n",
      "Epoch 20/100\n",
      "375/375 [==============================] - 7s 20ms/step - loss: 0.2495 - sparse_categorical_accuracy: 0.9076 - val_loss: 0.4684 - val_sparse_categorical_accuracy: 0.8500\n",
      "Epoch 21/100\n",
      "375/375 [==============================] - 7s 19ms/step - loss: 0.2440 - sparse_categorical_accuracy: 0.9104 - val_loss: 0.4410 - val_sparse_categorical_accuracy: 0.8660\n",
      "Epoch 22/100\n",
      "375/375 [==============================] - 7s 20ms/step - loss: 0.2322 - sparse_categorical_accuracy: 0.9162 - val_loss: 0.4425 - val_sparse_categorical_accuracy: 0.8600\n",
      "Epoch 23/100\n",
      "375/375 [==============================] - 7s 20ms/step - loss: 0.2276 - sparse_categorical_accuracy: 0.9167 - val_loss: 0.4396 - val_sparse_categorical_accuracy: 0.8707\n",
      "Epoch 24/100\n",
      "375/375 [==============================] - 7s 20ms/step - loss: 0.2219 - sparse_categorical_accuracy: 0.9183 - val_loss: 0.5194 - val_sparse_categorical_accuracy: 0.8480\n",
      "Epoch 25/100\n",
      "375/375 [==============================] - 7s 20ms/step - loss: 0.2113 - sparse_categorical_accuracy: 0.9249 - val_loss: 0.4475 - val_sparse_categorical_accuracy: 0.8680\n",
      "Epoch 26/100\n",
      "375/375 [==============================] - 7s 20ms/step - loss: 0.2030 - sparse_categorical_accuracy: 0.9247 - val_loss: 0.4966 - val_sparse_categorical_accuracy: 0.8487\n",
      "Epoch 27/100\n",
      "375/375 [==============================] - 7s 20ms/step - loss: 0.1973 - sparse_categorical_accuracy: 0.9286 - val_loss: 0.4307 - val_sparse_categorical_accuracy: 0.8693\n",
      "Epoch 28/100\n",
      "375/375 [==============================] - 7s 20ms/step - loss: 0.1959 - sparse_categorical_accuracy: 0.9286 - val_loss: 0.5001 - val_sparse_categorical_accuracy: 0.8600\n",
      "Epoch 29/100\n",
      "375/375 [==============================] - 7s 20ms/step - loss: 0.1888 - sparse_categorical_accuracy: 0.9311 - val_loss: 0.4885 - val_sparse_categorical_accuracy: 0.8620\n",
      "Epoch 30/100\n",
      "375/375 [==============================] - 7s 20ms/step - loss: 0.1902 - sparse_categorical_accuracy: 0.9306 - val_loss: 0.5918 - val_sparse_categorical_accuracy: 0.8447\n",
      "Epoch 31/100\n",
      "375/375 [==============================] - 7s 20ms/step - loss: 0.1836 - sparse_categorical_accuracy: 0.9331 - val_loss: 0.4647 - val_sparse_categorical_accuracy: 0.8633\n",
      "Epoch 32/100\n",
      "375/375 [==============================] - 7s 20ms/step - loss: 0.1776 - sparse_categorical_accuracy: 0.9359 - val_loss: 0.4997 - val_sparse_categorical_accuracy: 0.8553\n",
      "Epoch 33/100\n",
      "375/375 [==============================] - 8s 20ms/step - loss: 0.1671 - sparse_categorical_accuracy: 0.9386 - val_loss: 0.5530 - val_sparse_categorical_accuracy: 0.8420\n",
      "Epoch 34/100\n",
      "375/375 [==============================] - 8s 20ms/step - loss: 0.1680 - sparse_categorical_accuracy: 0.9358 - val_loss: 0.5018 - val_sparse_categorical_accuracy: 0.8640\n",
      "Epoch 35/100\n",
      "375/375 [==============================] - 8s 20ms/step - loss: 0.1639 - sparse_categorical_accuracy: 0.9403 - val_loss: 0.5512 - val_sparse_categorical_accuracy: 0.8627\n",
      "Epoch 36/100\n",
      "375/375 [==============================] - 8s 20ms/step - loss: 0.1582 - sparse_categorical_accuracy: 0.9420 - val_loss: 0.4889 - val_sparse_categorical_accuracy: 0.8593\n",
      "Epoch 37/100\n",
      "375/375 [==============================] - 8s 20ms/step - loss: 0.1496 - sparse_categorical_accuracy: 0.9428 - val_loss: 0.5564 - val_sparse_categorical_accuracy: 0.8453\n",
      "Epoch 38/100\n",
      "375/375 [==============================] - 8s 20ms/step - loss: 0.1492 - sparse_categorical_accuracy: 0.9456 - val_loss: 0.5928 - val_sparse_categorical_accuracy: 0.8360\n",
      "Epoch 39/100\n",
      "375/375 [==============================] - 7s 20ms/step - loss: 0.1512 - sparse_categorical_accuracy: 0.9457 - val_loss: 0.4581 - val_sparse_categorical_accuracy: 0.8747\n",
      "Epoch 40/100\n",
      "375/375 [==============================] - 7s 20ms/step - loss: 0.1430 - sparse_categorical_accuracy: 0.9460 - val_loss: 0.5312 - val_sparse_categorical_accuracy: 0.8580\n",
      "Epoch 41/100\n",
      "375/375 [==============================] - 7s 20ms/step - loss: 0.1438 - sparse_categorical_accuracy: 0.9465 - val_loss: 0.5279 - val_sparse_categorical_accuracy: 0.8587\n",
      "Epoch 42/100\n",
      "375/375 [==============================] - 7s 20ms/step - loss: 0.1354 - sparse_categorical_accuracy: 0.9494 - val_loss: 0.6387 - val_sparse_categorical_accuracy: 0.8547\n",
      "Epoch 43/100\n",
      "375/375 [==============================] - 7s 20ms/step - loss: 0.1388 - sparse_categorical_accuracy: 0.9500 - val_loss: 0.5327 - val_sparse_categorical_accuracy: 0.8427\n",
      "Epoch 44/100\n",
      "375/375 [==============================] - 7s 20ms/step - loss: 0.1351 - sparse_categorical_accuracy: 0.9512 - val_loss: 0.5073 - val_sparse_categorical_accuracy: 0.8593\n",
      "Epoch 45/100\n",
      "375/375 [==============================] - 7s 20ms/step - loss: 0.1321 - sparse_categorical_accuracy: 0.9521 - val_loss: 0.6713 - val_sparse_categorical_accuracy: 0.8293\n",
      "Epoch 46/100\n",
      "375/375 [==============================] - 7s 20ms/step - loss: 0.1251 - sparse_categorical_accuracy: 0.9527 - val_loss: 0.5175 - val_sparse_categorical_accuracy: 0.8580\n",
      "Epoch 47/100\n",
      "375/375 [==============================] - 7s 19ms/step - loss: 0.1298 - sparse_categorical_accuracy: 0.9517 - val_loss: 0.4488 - val_sparse_categorical_accuracy: 0.8747\n",
      "Epoch 48/100\n",
      "375/375 [==============================] - 7s 19ms/step - loss: 0.1216 - sparse_categorical_accuracy: 0.9557 - val_loss: 0.5709 - val_sparse_categorical_accuracy: 0.8453\n",
      "Epoch 49/100\n",
      "375/375 [==============================] - 7s 19ms/step - loss: 0.1141 - sparse_categorical_accuracy: 0.9572 - val_loss: 0.5496 - val_sparse_categorical_accuracy: 0.8580\n",
      "Epoch 50/100\n",
      "375/375 [==============================] - 7s 19ms/step - loss: 0.1124 - sparse_categorical_accuracy: 0.9573 - val_loss: 0.5763 - val_sparse_categorical_accuracy: 0.8687\n",
      "Epoch 51/100\n",
      "375/375 [==============================] - 7s 19ms/step - loss: 0.1063 - sparse_categorical_accuracy: 0.9607 - val_loss: 0.4996 - val_sparse_categorical_accuracy: 0.8760\n",
      "Epoch 52/100\n",
      "375/375 [==============================] - 7s 19ms/step - loss: 0.0900 - sparse_categorical_accuracy: 0.9666 - val_loss: 0.4895 - val_sparse_categorical_accuracy: 0.8767\n",
      "Epoch 53/100\n",
      "375/375 [==============================] - 7s 19ms/step - loss: 0.0862 - sparse_categorical_accuracy: 0.9689 - val_loss: 0.4870 - val_sparse_categorical_accuracy: 0.8800\n",
      "Epoch 54/100\n",
      "375/375 [==============================] - 7s 19ms/step - loss: 0.0802 - sparse_categorical_accuracy: 0.9692 - val_loss: 0.4877 - val_sparse_categorical_accuracy: 0.8800\n",
      "Epoch 55/100\n",
      "375/375 [==============================] - 7s 19ms/step - loss: 0.0779 - sparse_categorical_accuracy: 0.9735 - val_loss: 0.4854 - val_sparse_categorical_accuracy: 0.8813\n",
      "Epoch 56/100\n",
      "375/375 [==============================] - 7s 19ms/step - loss: 0.0795 - sparse_categorical_accuracy: 0.9702 - val_loss: 0.4849 - val_sparse_categorical_accuracy: 0.8773\n",
      "Epoch 57/100\n",
      "375/375 [==============================] - 7s 19ms/step - loss: 0.0752 - sparse_categorical_accuracy: 0.9711 - val_loss: 0.4864 - val_sparse_categorical_accuracy: 0.8780\n",
      "Epoch 58/100\n",
      "375/375 [==============================] - 7s 20ms/step - loss: 0.0797 - sparse_categorical_accuracy: 0.9693 - val_loss: 0.4844 - val_sparse_categorical_accuracy: 0.8800\n",
      "Epoch 59/100\n",
      "375/375 [==============================] - 7s 20ms/step - loss: 0.0763 - sparse_categorical_accuracy: 0.9710 - val_loss: 0.4875 - val_sparse_categorical_accuracy: 0.8800\n",
      "Epoch 60/100\n",
      "375/375 [==============================] - 7s 20ms/step - loss: 0.0745 - sparse_categorical_accuracy: 0.9717 - val_loss: 0.4891 - val_sparse_categorical_accuracy: 0.8793\n",
      "Epoch 61/100\n",
      "375/375 [==============================] - 7s 20ms/step - loss: 0.0745 - sparse_categorical_accuracy: 0.9717 - val_loss: 0.4893 - val_sparse_categorical_accuracy: 0.8800\n",
      "Epoch 62/100\n",
      "375/375 [==============================] - 7s 20ms/step - loss: 0.0703 - sparse_categorical_accuracy: 0.9732 - val_loss: 0.4904 - val_sparse_categorical_accuracy: 0.8787\n",
      "Epoch 63/100\n",
      "375/375 [==============================] - 7s 20ms/step - loss: 0.0695 - sparse_categorical_accuracy: 0.9734 - val_loss: 0.4937 - val_sparse_categorical_accuracy: 0.8793\n",
      "Epoch 64/100\n",
      "375/375 [==============================] - 7s 20ms/step - loss: 0.0731 - sparse_categorical_accuracy: 0.9729 - val_loss: 0.4939 - val_sparse_categorical_accuracy: 0.8787\n",
      "Epoch 65/100\n",
      "375/375 [==============================] - 7s 20ms/step - loss: 0.0724 - sparse_categorical_accuracy: 0.9717 - val_loss: 0.4937 - val_sparse_categorical_accuracy: 0.8807\n",
      "Epoch 66/100\n",
      "375/375 [==============================] - 7s 20ms/step - loss: 0.0694 - sparse_categorical_accuracy: 0.9725 - val_loss: 0.4935 - val_sparse_categorical_accuracy: 0.8807\n",
      "Epoch 67/100\n",
      "375/375 [==============================] - 7s 20ms/step - loss: 0.0680 - sparse_categorical_accuracy: 0.9736 - val_loss: 0.4959 - val_sparse_categorical_accuracy: 0.8787\n",
      "Epoch 68/100\n",
      "375/375 [==============================] - 7s 20ms/step - loss: 0.0704 - sparse_categorical_accuracy: 0.9733 - val_loss: 0.4983 - val_sparse_categorical_accuracy: 0.8800\n",
      "Epoch 69/100\n",
      "375/375 [==============================] - 7s 20ms/step - loss: 0.0676 - sparse_categorical_accuracy: 0.9736 - val_loss: 0.4999 - val_sparse_categorical_accuracy: 0.8813\n",
      "Epoch 70/100\n",
      "375/375 [==============================] - 7s 20ms/step - loss: 0.0704 - sparse_categorical_accuracy: 0.9724 - val_loss: 0.4984 - val_sparse_categorical_accuracy: 0.8793\n",
      "Epoch 71/100\n",
      "375/375 [==============================] - 7s 20ms/step - loss: 0.0689 - sparse_categorical_accuracy: 0.9737 - val_loss: 0.4983 - val_sparse_categorical_accuracy: 0.8787\n",
      "Epoch 72/100\n",
      "375/375 [==============================] - 7s 19ms/step - loss: 0.0687 - sparse_categorical_accuracy: 0.9751 - val_loss: 0.4995 - val_sparse_categorical_accuracy: 0.8813\n",
      "Epoch 73/100\n",
      "375/375 [==============================] - 7s 20ms/step - loss: 0.0666 - sparse_categorical_accuracy: 0.9747 - val_loss: 0.5025 - val_sparse_categorical_accuracy: 0.8800\n",
      "Epoch 74/100\n",
      "375/375 [==============================] - 7s 20ms/step - loss: 0.0693 - sparse_categorical_accuracy: 0.9721 - val_loss: 0.5029 - val_sparse_categorical_accuracy: 0.8793\n",
      "Epoch 75/100\n",
      "375/375 [==============================] - 7s 20ms/step - loss: 0.0710 - sparse_categorical_accuracy: 0.9735 - val_loss: 0.5023 - val_sparse_categorical_accuracy: 0.8780\n",
      "Epoch 76/100\n",
      "375/375 [==============================] - 7s 20ms/step - loss: 0.0652 - sparse_categorical_accuracy: 0.9747 - val_loss: 0.5032 - val_sparse_categorical_accuracy: 0.8767\n",
      "Epoch 77/100\n",
      "375/375 [==============================] - 7s 20ms/step - loss: 0.0753 - sparse_categorical_accuracy: 0.9723 - val_loss: 0.5019 - val_sparse_categorical_accuracy: 0.8793\n",
      "Epoch 78/100\n",
      "375/375 [==============================] - 7s 20ms/step - loss: 0.0664 - sparse_categorical_accuracy: 0.9755 - val_loss: 0.5040 - val_sparse_categorical_accuracy: 0.8793\n",
      "Epoch 79/100\n",
      "375/375 [==============================] - 7s 19ms/step - loss: 0.0680 - sparse_categorical_accuracy: 0.9733 - val_loss: 0.5021 - val_sparse_categorical_accuracy: 0.8793\n",
      "Epoch 80/100\n",
      "375/375 [==============================] - 7s 19ms/step - loss: 0.0670 - sparse_categorical_accuracy: 0.9732 - val_loss: 0.5040 - val_sparse_categorical_accuracy: 0.8780\n",
      "Epoch 81/100\n",
      "375/375 [==============================] - 7s 19ms/step - loss: 0.0678 - sparse_categorical_accuracy: 0.9748 - val_loss: 0.5037 - val_sparse_categorical_accuracy: 0.8793\n",
      "Epoch 82/100\n",
      "375/375 [==============================] - 7s 20ms/step - loss: 0.0666 - sparse_categorical_accuracy: 0.9752 - val_loss: 0.5049 - val_sparse_categorical_accuracy: 0.8820\n",
      "Epoch 83/100\n",
      "375/375 [==============================] - 7s 20ms/step - loss: 0.0688 - sparse_categorical_accuracy: 0.9742 - val_loss: 0.5025 - val_sparse_categorical_accuracy: 0.8820\n",
      "Epoch 84/100\n",
      "375/375 [==============================] - 7s 20ms/step - loss: 0.0658 - sparse_categorical_accuracy: 0.9744 - val_loss: 0.5069 - val_sparse_categorical_accuracy: 0.8813\n",
      "Epoch 85/100\n",
      "375/375 [==============================] - 7s 20ms/step - loss: 0.0722 - sparse_categorical_accuracy: 0.9735 - val_loss: 0.5027 - val_sparse_categorical_accuracy: 0.8793\n",
      "Epoch 86/100\n",
      "375/375 [==============================] - 7s 20ms/step - loss: 0.0616 - sparse_categorical_accuracy: 0.9747 - val_loss: 0.5045 - val_sparse_categorical_accuracy: 0.8807\n",
      "Epoch 87/100\n",
      "375/375 [==============================] - 7s 20ms/step - loss: 0.0617 - sparse_categorical_accuracy: 0.9762 - val_loss: 0.5062 - val_sparse_categorical_accuracy: 0.8807\n",
      "Epoch 88/100\n",
      "375/375 [==============================] - 7s 20ms/step - loss: 0.0637 - sparse_categorical_accuracy: 0.9757 - val_loss: 0.5063 - val_sparse_categorical_accuracy: 0.8813\n",
      "Epoch 89/100\n",
      "375/375 [==============================] - 7s 20ms/step - loss: 0.0638 - sparse_categorical_accuracy: 0.9766 - val_loss: 0.5090 - val_sparse_categorical_accuracy: 0.8793\n",
      "Epoch 90/100\n",
      "375/375 [==============================] - 7s 19ms/step - loss: 0.0664 - sparse_categorical_accuracy: 0.9749 - val_loss: 0.5080 - val_sparse_categorical_accuracy: 0.8820\n",
      "Epoch 91/100\n",
      "375/375 [==============================] - 7s 19ms/step - loss: 0.0661 - sparse_categorical_accuracy: 0.9750 - val_loss: 0.5076 - val_sparse_categorical_accuracy: 0.8813\n",
      "Epoch 92/100\n",
      "375/375 [==============================] - 7s 19ms/step - loss: 0.0647 - sparse_categorical_accuracy: 0.9748 - val_loss: 0.5077 - val_sparse_categorical_accuracy: 0.8800\n",
      "Epoch 93/100\n",
      "375/375 [==============================] - 7s 19ms/step - loss: 0.0595 - sparse_categorical_accuracy: 0.9777 - val_loss: 0.5117 - val_sparse_categorical_accuracy: 0.8800\n",
      "Epoch 94/100\n",
      "375/375 [==============================] - 7s 19ms/step - loss: 0.0637 - sparse_categorical_accuracy: 0.9768 - val_loss: 0.5104 - val_sparse_categorical_accuracy: 0.8800\n",
      "Epoch 95/100\n",
      "375/375 [==============================] - 7s 19ms/step - loss: 0.0607 - sparse_categorical_accuracy: 0.9768 - val_loss: 0.5116 - val_sparse_categorical_accuracy: 0.8807\n",
      "Epoch 96/100\n",
      "375/375 [==============================] - 7s 19ms/step - loss: 0.0599 - sparse_categorical_accuracy: 0.9790 - val_loss: 0.5109 - val_sparse_categorical_accuracy: 0.8813\n",
      "Epoch 97/100\n",
      "375/375 [==============================] - 7s 19ms/step - loss: 0.0622 - sparse_categorical_accuracy: 0.9759 - val_loss: 0.5130 - val_sparse_categorical_accuracy: 0.8793\n",
      "Epoch 98/100\n",
      "375/375 [==============================] - 7s 19ms/step - loss: 0.0654 - sparse_categorical_accuracy: 0.9755 - val_loss: 0.5096 - val_sparse_categorical_accuracy: 0.8787\n",
      "Epoch 99/100\n",
      "375/375 [==============================] - 7s 20ms/step - loss: 0.0611 - sparse_categorical_accuracy: 0.9769 - val_loss: 0.5144 - val_sparse_categorical_accuracy: 0.8807\n",
      "Epoch 100/100\n",
      "375/375 [==============================] - 7s 20ms/step - loss: 0.0630 - sparse_categorical_accuracy: 0.9763 - val_loss: 0.5141 - val_sparse_categorical_accuracy: 0.8800\n",
      "47/47 [==============================] - 0s 7ms/step - loss: 0.3934 - sparse_categorical_accuracy: 0.9000\n"
     ]
    }
   ],
   "source": [
    "from tensorflow.keras.optimizers import RMSprop\n",
    "from keras.callbacks import LearningRateScheduler\n",
    "\n",
    "# Define the learning rate schedule function\n",
    "def lr_schedule(epoch):\n",
    "    learning_rate = 0.001  # Initial learning rate\n",
    "    if epoch >= 150:\n",
    "        learning_rate *= 0.5e-3\n",
    "    elif epoch >= 100:\n",
    "        learning_rate *= 1e-3\n",
    "    elif epoch >= 50:\n",
    "        learning_rate *= 1e-2\n",
    "    return learning_rate\n",
    "\n",
    "\n",
    "# Compile teacher model with RMSprop optimizer\n",
    "teacher.compile(\n",
    "    optimizer=RMSprop(learning_rate=0.001),  # Initial learning rate\n",
    "    loss=keras.losses.SparseCategoricalCrossentropy(from_logits=True),\n",
    "    metrics=[keras.metrics.SparseCategoricalAccuracy()],\n",
    ")\n",
    "\n",
    "\n",
    "\n",
    "# Train and evaluate teacher on data with learning rate schedule\n",
    "history = teacher.fit(\n",
    "    X_train,\n",
    "    y_train,\n",
    "    epochs=100,\n",
    "    validation_data=(X_validation, y_validation),\n",
    "    callbacks=[LearningRateScheduler(lr_schedule)],\n",
    ")\n",
    "\n",
    "# Evaluate the teacher model on test data\n",
    "evaluation_result = teacher.evaluate(X_test, y_test)\n"
   ]
  },
  {
   "cell_type": "code",
   "execution_count": 77,
   "id": "f5a8eeca",
   "metadata": {},
   "outputs": [
    {
     "name": "stdout",
     "output_type": "stream",
     "text": [
      "Evaluation Loss: 0.3934\n",
      "Evaluation Accuracy: 90.00%\n"
     ]
    }
   ],
   "source": [
    "# Print the evaluation result\n",
    "print(\"Evaluation Loss: {:.4f}\".format(evaluation_result[0]))\n",
    "print(\"Evaluation Accuracy: {:.2f}%\".format(evaluation_result[1] * 100))"
   ]
  },
  {
   "cell_type": "code",
   "execution_count": 106,
   "id": "1b81506d",
   "metadata": {},
   "outputs": [],
   "source": [
    "# Save the trained teacher model\n",
    "teacher.save('CRNN_teacher_model.keras')"
   ]
  },
  {
   "cell_type": "code",
   "execution_count": 79,
   "id": "34ff5b11",
   "metadata": {},
   "outputs": [
    {
     "data": {
      "image/png": "[encoded data removed]",
      "text/plain": [
       "<Figure size 640x480 with 1 Axes>"
      ]
     },
     "metadata": {},
     "output_type": "display_data"
    },
    {
     "data": {
      "image/png": "[encoded data removed]",
      "text/plain": [
       "<Figure size 640x480 with 1 Axes>"
      ]
     },
     "metadata": {},
     "output_type": "display_data"
    }
   ],
   "source": [
    "# Plotting training and validation accuracy\n",
    "plt.plot(history.history['sparse_categorical_accuracy'], label='Training Accuracy')\n",
    "plt.plot(history.history['val_sparse_categorical_accuracy'], label='Validation Accuracy')\n",
    "plt.xlabel('Epoch')\n",
    "plt.ylabel('Accuracy')\n",
    "plt.title('Training and Validation Accuracy')\n",
    "plt.legend()\n",
    "plt.show()\n",
    "\n",
    "# Plotting training and validation loss\n",
    "plt.plot(history.history['loss'], label='Training Loss')\n",
    "plt.plot(history.history['val_loss'], label='Validation Loss')\n",
    "plt.xlabel('Epoch')\n",
    "plt.ylabel('Loss')\n",
    "plt.title('Training and Validation Loss')\n",
    "plt.legend()\n",
    "plt.show()"
   ]
  },
  {
   "cell_type": "code",
   "execution_count": 80,
   "id": "d24885ff",
   "metadata": {
    "scrolled": true
   },
   "outputs": [
    {
     "data": {
      "image/png": "[encoded data removed]",
      "text/plain": [
       "<Figure size 800x600 with 2 Axes>"
      ]
     },
     "metadata": {},
     "output_type": "display_data"
    },
    {
     "name": "stdout",
     "output_type": "stream",
     "text": [
      "Classification Report:\n",
      "              precision    recall  f1-score   support\n",
      "\n",
      "           0       0.90      0.85      0.87       321\n",
      "           1       0.85      0.88      0.86       269\n",
      "           2       0.85      0.94      0.90       286\n",
      "           3       0.90      0.86      0.88       278\n",
      "           4       0.99      0.96      0.97       346\n",
      "\n",
      "    accuracy                           0.90      1500\n",
      "   macro avg       0.90      0.90      0.90      1500\n",
      "weighted avg       0.90      0.90      0.90      1500\n",
      "\n"
     ]
    }
   ],
   "source": [
    "from sklearn.metrics import confusion_matrix, classification_report\n",
    "import seaborn as sns\n",
    "\n",
    "y_pred_teacher = np.argmax(teacher.predict(X_test), axis=1)\n",
    "\n",
    "# True labels\n",
    "y_true = y_test\n",
    "\n",
    "# Create confusion matrix\n",
    "cm = confusion_matrix(y_true, y_pred_teacher)\n",
    "\n",
    "plt.figure(figsize=(8, 6))\n",
    "sns.heatmap(cm, annot=True, fmt='d', cmap='Blues', xticklabels=np.unique(y_true), yticklabels=np.unique(y_true))\n",
    "plt.title('Confusion Matrix')\n",
    "plt.xlabel('Predicted Label')\n",
    "plt.ylabel('True Label')\n",
    "plt.show()\n",
    "\n",
    "# Print classification report\n",
    "print(\"Classification Report:\")\n",
    "print(classification_report(y_true, y_pred_teacher))"
   ]
  },
  {
   "cell_type": "markdown",
   "id": "7789bcdd",
   "metadata": {},
   "source": [
    "## Student Model Training"
   ]
  },
  {
   "cell_type": "code",
   "execution_count": 81,
   "id": "0e4514ab",
   "metadata": {
    "scrolled": true
   },
   "outputs": [
    {
     "name": "stdout",
     "output_type": "stream",
     "text": [
      "Epoch 1/100\n"
     ]
    },
    {
     "name": "stderr",
     "output_type": "stream",
     "text": [
      "C:\\Users\\ASUS\\anaconda3\\envs\\LocalGpu\\lib\\site-packages\\keras\\backend.py:4906: UserWarning: \"`sparse_categorical_crossentropy` received `from_logits=True`, but the `output` argument was produced by a sigmoid or softmax activation and thus does not represent logits. Was this intended?\"\n",
      "  warnings.warn(\n"
     ]
    },
    {
     "name": "stdout",
     "output_type": "stream",
     "text": [
      "375/375 [==============================] - 14s 24ms/step - sparse_categorical_accuracy: 0.4269 - student_loss: 1.2355 - distillation_loss: 0.0640 - val_sparse_categorical_accuracy: 0.5093 - val_student_loss: 1.0855\n",
      "Epoch 2/100\n",
      "375/375 [==============================] - 8s 22ms/step - sparse_categorical_accuracy: 0.5570 - student_loss: 1.0308 - distillation_loss: 0.0540 - val_sparse_categorical_accuracy: 0.5907 - val_student_loss: 0.9504\n",
      "Epoch 3/100\n",
      "375/375 [==============================] - 8s 22ms/step - sparse_categorical_accuracy: 0.6654 - student_loss: 0.8515 - distillation_loss: 0.0436 - val_sparse_categorical_accuracy: 0.6373 - val_student_loss: 0.8061\n",
      "Epoch 4/100\n",
      "375/375 [==============================] - 8s 22ms/step - sparse_categorical_accuracy: 0.7261 - student_loss: 0.7240 - distillation_loss: 0.0364 - val_sparse_categorical_accuracy: 0.7327 - val_student_loss: 0.6811\n",
      "Epoch 5/100\n",
      "375/375 [==============================] - 8s 22ms/step - sparse_categorical_accuracy: 0.7538 - student_loss: 0.6617 - distillation_loss: 0.0329 - val_sparse_categorical_accuracy: 0.7313 - val_student_loss: 0.5430\n",
      "Epoch 6/100\n",
      "375/375 [==============================] - 8s 22ms/step - sparse_categorical_accuracy: 0.7755 - student_loss: 0.6145 - distillation_loss: 0.0299 - val_sparse_categorical_accuracy: 0.7360 - val_student_loss: 0.6503\n",
      "Epoch 7/100\n",
      "375/375 [==============================] - 8s 22ms/step - sparse_categorical_accuracy: 0.7935 - student_loss: 0.5765 - distillation_loss: 0.0280 - val_sparse_categorical_accuracy: 0.8007 - val_student_loss: 0.4345\n",
      "Epoch 8/100\n",
      "375/375 [==============================] - 8s 22ms/step - sparse_categorical_accuracy: 0.8057 - student_loss: 0.5403 - distillation_loss: 0.0262 - val_sparse_categorical_accuracy: 0.7947 - val_student_loss: 0.4150\n",
      "Epoch 9/100\n",
      "375/375 [==============================] - 8s 22ms/step - sparse_categorical_accuracy: 0.8119 - student_loss: 0.5216 - distillation_loss: 0.0253 - val_sparse_categorical_accuracy: 0.7947 - val_student_loss: 0.4722\n",
      "Epoch 10/100\n",
      "375/375 [==============================] - 8s 22ms/step - sparse_categorical_accuracy: 0.8206 - student_loss: 0.4960 - distillation_loss: 0.0237 - val_sparse_categorical_accuracy: 0.8280 - val_student_loss: 0.3752\n",
      "Epoch 11/100\n",
      "375/375 [==============================] - 8s 22ms/step - sparse_categorical_accuracy: 0.8280 - student_loss: 0.4790 - distillation_loss: 0.0230 - val_sparse_categorical_accuracy: 0.7540 - val_student_loss: 0.4262\n",
      "Epoch 12/100\n",
      "375/375 [==============================] - 8s 22ms/step - sparse_categorical_accuracy: 0.8409 - student_loss: 0.4521 - distillation_loss: 0.0214 - val_sparse_categorical_accuracy: 0.8180 - val_student_loss: 0.3530\n",
      "Epoch 13/100\n",
      "375/375 [==============================] - 8s 22ms/step - sparse_categorical_accuracy: 0.8458 - student_loss: 0.4277 - distillation_loss: 0.0202 - val_sparse_categorical_accuracy: 0.7820 - val_student_loss: 0.3965\n",
      "Epoch 14/100\n",
      "375/375 [==============================] - 8s 21ms/step - sparse_categorical_accuracy: 0.8499 - student_loss: 0.4195 - distillation_loss: 0.0199 - val_sparse_categorical_accuracy: 0.8173 - val_student_loss: 0.3890\n",
      "Epoch 15/100\n",
      "375/375 [==============================] - 8s 22ms/step - sparse_categorical_accuracy: 0.8540 - student_loss: 0.4065 - distillation_loss: 0.0191 - val_sparse_categorical_accuracy: 0.8240 - val_student_loss: 0.1800\n",
      "Epoch 16/100\n",
      "375/375 [==============================] - 8s 22ms/step - sparse_categorical_accuracy: 0.8603 - student_loss: 0.3875 - distillation_loss: 0.0183 - val_sparse_categorical_accuracy: 0.7947 - val_student_loss: 0.3454\n",
      "Epoch 17/100\n",
      "375/375 [==============================] - 8s 22ms/step - sparse_categorical_accuracy: 0.8608 - student_loss: 0.3925 - distillation_loss: 0.0183 - val_sparse_categorical_accuracy: 0.8047 - val_student_loss: 0.2582\n",
      "Epoch 18/100\n",
      "375/375 [==============================] - 8s 22ms/step - sparse_categorical_accuracy: 0.8650 - student_loss: 0.3759 - distillation_loss: 0.0177 - val_sparse_categorical_accuracy: 0.8280 - val_student_loss: 0.2347\n",
      "Epoch 19/100\n",
      "375/375 [==============================] - 8s 22ms/step - sparse_categorical_accuracy: 0.8700 - student_loss: 0.3625 - distillation_loss: 0.0168 - val_sparse_categorical_accuracy: 0.8287 - val_student_loss: 0.3250\n",
      "Epoch 20/100\n",
      "375/375 [==============================] - 8s 22ms/step - sparse_categorical_accuracy: 0.8743 - student_loss: 0.3506 - distillation_loss: 0.0163 - val_sparse_categorical_accuracy: 0.8173 - val_student_loss: 0.3530\n",
      "Epoch 21/100\n",
      "375/375 [==============================] - 8s 22ms/step - sparse_categorical_accuracy: 0.8736 - student_loss: 0.3522 - distillation_loss: 0.0166 - val_sparse_categorical_accuracy: 0.8393 - val_student_loss: 0.2497\n",
      "Epoch 22/100\n",
      "375/375 [==============================] - 8s 22ms/step - sparse_categorical_accuracy: 0.8780 - student_loss: 0.3429 - distillation_loss: 0.0158 - val_sparse_categorical_accuracy: 0.8327 - val_student_loss: 0.3020\n",
      "Epoch 23/100\n",
      "375/375 [==============================] - 8s 22ms/step - sparse_categorical_accuracy: 0.8825 - student_loss: 0.3285 - distillation_loss: 0.0151 - val_sparse_categorical_accuracy: 0.8367 - val_student_loss: 0.2652\n",
      "Epoch 24/100\n",
      "375/375 [==============================] - 8s 22ms/step - sparse_categorical_accuracy: 0.8855 - student_loss: 0.3177 - distillation_loss: 0.0147 - val_sparse_categorical_accuracy: 0.8627 - val_student_loss: 0.1408\n",
      "Epoch 25/100\n",
      "375/375 [==============================] - 9s 23ms/step - sparse_categorical_accuracy: 0.8863 - student_loss: 0.3115 - distillation_loss: 0.0145 - val_sparse_categorical_accuracy: 0.8473 - val_student_loss: 0.1383\n",
      "Epoch 26/100\n",
      "375/375 [==============================] - 9s 23ms/step - sparse_categorical_accuracy: 0.8926 - student_loss: 0.3012 - distillation_loss: 0.0139 - val_sparse_categorical_accuracy: 0.8473 - val_student_loss: 0.1620\n",
      "Epoch 27/100\n",
      "375/375 [==============================] - 9s 23ms/step - sparse_categorical_accuracy: 0.8893 - student_loss: 0.2990 - distillation_loss: 0.0138 - val_sparse_categorical_accuracy: 0.8560 - val_student_loss: 0.1598\n",
      "Epoch 28/100\n",
      "375/375 [==============================] - 9s 23ms/step - sparse_categorical_accuracy: 0.8929 - student_loss: 0.2917 - distillation_loss: 0.0135 - val_sparse_categorical_accuracy: 0.8507 - val_student_loss: 0.1354\n",
      "Epoch 29/100\n",
      "375/375 [==============================] - 9s 23ms/step - sparse_categorical_accuracy: 0.8965 - student_loss: 0.2885 - distillation_loss: 0.0131 - val_sparse_categorical_accuracy: 0.8453 - val_student_loss: 0.2329\n",
      "Epoch 30/100\n",
      "375/375 [==============================] - 9s 23ms/step - sparse_categorical_accuracy: 0.8976 - student_loss: 0.2779 - distillation_loss: 0.0127 - val_sparse_categorical_accuracy: 0.8500 - val_student_loss: 0.1159\n",
      "Epoch 31/100\n",
      "375/375 [==============================] - 8s 22ms/step - sparse_categorical_accuracy: 0.8975 - student_loss: 0.2848 - distillation_loss: 0.0129 - val_sparse_categorical_accuracy: 0.8333 - val_student_loss: 0.2231\n",
      "Epoch 32/100\n",
      "375/375 [==============================] - 8s 22ms/step - sparse_categorical_accuracy: 0.8990 - student_loss: 0.2775 - distillation_loss: 0.0126 - val_sparse_categorical_accuracy: 0.8520 - val_student_loss: 0.1565\n",
      "Epoch 33/100\n",
      "375/375 [==============================] - 9s 23ms/step - sparse_categorical_accuracy: 0.9011 - student_loss: 0.2689 - distillation_loss: 0.0122 - val_sparse_categorical_accuracy: 0.8520 - val_student_loss: 0.2019\n",
      "Epoch 34/100\n",
      "375/375 [==============================] - 9s 23ms/step - sparse_categorical_accuracy: 0.9052 - student_loss: 0.2613 - distillation_loss: 0.0117 - val_sparse_categorical_accuracy: 0.8540 - val_student_loss: 0.1585\n",
      "Epoch 35/100\n",
      "375/375 [==============================] - 9s 23ms/step - sparse_categorical_accuracy: 0.9096 - student_loss: 0.2513 - distillation_loss: 0.0112 - val_sparse_categorical_accuracy: 0.8620 - val_student_loss: 0.1683\n",
      "Epoch 36/100\n",
      "375/375 [==============================] - 9s 23ms/step - sparse_categorical_accuracy: 0.9088 - student_loss: 0.2514 - distillation_loss: 0.0114 - val_sparse_categorical_accuracy: 0.8653 - val_student_loss: 0.1231\n",
      "Epoch 37/100\n",
      "375/375 [==============================] - 9s 23ms/step - sparse_categorical_accuracy: 0.9096 - student_loss: 0.2470 - distillation_loss: 0.0112 - val_sparse_categorical_accuracy: 0.8467 - val_student_loss: 0.1202\n",
      "Epoch 38/100\n",
      "375/375 [==============================] - 9s 23ms/step - sparse_categorical_accuracy: 0.9069 - student_loss: 0.2483 - distillation_loss: 0.0114 - val_sparse_categorical_accuracy: 0.8587 - val_student_loss: 0.1000\n",
      "Epoch 39/100\n",
      "375/375 [==============================] - 9s 23ms/step - sparse_categorical_accuracy: 0.9144 - student_loss: 0.2348 - distillation_loss: 0.0105 - val_sparse_categorical_accuracy: 0.8660 - val_student_loss: 0.1321\n",
      "Epoch 40/100\n",
      "375/375 [==============================] - 9s 23ms/step - sparse_categorical_accuracy: 0.9156 - student_loss: 0.2339 - distillation_loss: 0.0105 - val_sparse_categorical_accuracy: 0.8520 - val_student_loss: 0.1108\n",
      "Epoch 41/100\n",
      "375/375 [==============================] - 9s 23ms/step - sparse_categorical_accuracy: 0.9166 - student_loss: 0.2289 - distillation_loss: 0.0103 - val_sparse_categorical_accuracy: 0.8607 - val_student_loss: 0.1368\n",
      "Epoch 42/100\n",
      "375/375 [==============================] - 9s 23ms/step - sparse_categorical_accuracy: 0.9173 - student_loss: 0.2272 - distillation_loss: 0.0103 - val_sparse_categorical_accuracy: 0.8427 - val_student_loss: 0.1061\n",
      "Epoch 43/100\n",
      "375/375 [==============================] - 8s 23ms/step - sparse_categorical_accuracy: 0.9159 - student_loss: 0.2355 - distillation_loss: 0.0106 - val_sparse_categorical_accuracy: 0.8420 - val_student_loss: 0.2566\n",
      "Epoch 44/100\n",
      "375/375 [==============================] - 9s 23ms/step - sparse_categorical_accuracy: 0.9206 - student_loss: 0.2204 - distillation_loss: 0.0098 - val_sparse_categorical_accuracy: 0.8647 - val_student_loss: 0.1221\n",
      "Epoch 45/100\n",
      "375/375 [==============================] - 8s 23ms/step - sparse_categorical_accuracy: 0.9189 - student_loss: 0.2235 - distillation_loss: 0.0100 - val_sparse_categorical_accuracy: 0.8527 - val_student_loss: 0.1398\n",
      "Epoch 46/100\n",
      "375/375 [==============================] - 9s 23ms/step - sparse_categorical_accuracy: 0.9200 - student_loss: 0.2153 - distillation_loss: 0.0097 - val_sparse_categorical_accuracy: 0.8627 - val_student_loss: 0.1274\n",
      "Epoch 47/100\n",
      "375/375 [==============================] - 9s 23ms/step - sparse_categorical_accuracy: 0.9207 - student_loss: 0.2159 - distillation_loss: 0.0097 - val_sparse_categorical_accuracy: 0.8673 - val_student_loss: 0.1593\n",
      "Epoch 48/100\n",
      "375/375 [==============================] - 8s 22ms/step - sparse_categorical_accuracy: 0.9242 - student_loss: 0.2093 - distillation_loss: 0.0092 - val_sparse_categorical_accuracy: 0.8720 - val_student_loss: 0.0723\n",
      "Epoch 49/100\n",
      "375/375 [==============================] - 8s 22ms/step - sparse_categorical_accuracy: 0.9251 - student_loss: 0.2035 - distillation_loss: 0.0090 - val_sparse_categorical_accuracy: 0.8653 - val_student_loss: 0.0754\n",
      "Epoch 50/100\n",
      "375/375 [==============================] - 8s 22ms/step - sparse_categorical_accuracy: 0.9268 - student_loss: 0.2033 - distillation_loss: 0.0090 - val_sparse_categorical_accuracy: 0.8547 - val_student_loss: 0.0797\n",
      "Epoch 51/100\n",
      "375/375 [==============================] - 8s 22ms/step - sparse_categorical_accuracy: 0.9232 - student_loss: 0.2060 - distillation_loss: 0.0091 - val_sparse_categorical_accuracy: 0.8653 - val_student_loss: 0.1914\n",
      "Epoch 52/100\n",
      "375/375 [==============================] - 8s 22ms/step - sparse_categorical_accuracy: 0.9246 - student_loss: 0.2041 - distillation_loss: 0.0090 - val_sparse_categorical_accuracy: 0.8520 - val_student_loss: 0.1206\n",
      "Epoch 53/100\n",
      "375/375 [==============================] - 9s 23ms/step - sparse_categorical_accuracy: 0.9288 - student_loss: 0.1951 - distillation_loss: 0.0087 - val_sparse_categorical_accuracy: 0.8800 - val_student_loss: 0.0749\n",
      "Epoch 54/100\n",
      "375/375 [==============================] - 9s 23ms/step - sparse_categorical_accuracy: 0.9250 - student_loss: 0.2030 - distillation_loss: 0.0091 - val_sparse_categorical_accuracy: 0.8673 - val_student_loss: 0.0985\n",
      "Epoch 55/100\n",
      "375/375 [==============================] - 9s 23ms/step - sparse_categorical_accuracy: 0.9239 - student_loss: 0.2037 - distillation_loss: 0.0091 - val_sparse_categorical_accuracy: 0.8753 - val_student_loss: 0.0480\n",
      "Epoch 56/100\n",
      "375/375 [==============================] - 9s 23ms/step - sparse_categorical_accuracy: 0.9288 - student_loss: 0.1924 - distillation_loss: 0.0084 - val_sparse_categorical_accuracy: 0.8720 - val_student_loss: 0.2195\n",
      "Epoch 57/100\n",
      "375/375 [==============================] - 9s 23ms/step - sparse_categorical_accuracy: 0.9286 - student_loss: 0.1917 - distillation_loss: 0.0086 - val_sparse_categorical_accuracy: 0.8520 - val_student_loss: 0.2158\n",
      "Epoch 58/100\n",
      "375/375 [==============================] - 9s 23ms/step - sparse_categorical_accuracy: 0.9326 - student_loss: 0.1805 - distillation_loss: 0.0078 - val_sparse_categorical_accuracy: 0.8833 - val_student_loss: 0.0469\n",
      "Epoch 59/100\n",
      "375/375 [==============================] - 9s 23ms/step - sparse_categorical_accuracy: 0.9314 - student_loss: 0.1866 - distillation_loss: 0.0083 - val_sparse_categorical_accuracy: 0.8653 - val_student_loss: 0.0693\n",
      "Epoch 60/100\n",
      "375/375 [==============================] - 9s 23ms/step - sparse_categorical_accuracy: 0.9297 - student_loss: 0.1839 - distillation_loss: 0.0082 - val_sparse_categorical_accuracy: 0.8653 - val_student_loss: 0.0817\n",
      "Epoch 61/100\n",
      "375/375 [==============================] - 9s 23ms/step - sparse_categorical_accuracy: 0.9307 - student_loss: 0.1848 - distillation_loss: 0.0081 - val_sparse_categorical_accuracy: 0.8593 - val_student_loss: 0.1315\n",
      "Epoch 62/100\n",
      "375/375 [==============================] - 9s 23ms/step - sparse_categorical_accuracy: 0.9315 - student_loss: 0.1859 - distillation_loss: 0.0081 - val_sparse_categorical_accuracy: 0.8753 - val_student_loss: 0.0393\n",
      "Epoch 63/100\n",
      "375/375 [==============================] - 9s 23ms/step - sparse_categorical_accuracy: 0.9336 - student_loss: 0.1797 - distillation_loss: 0.0078 - val_sparse_categorical_accuracy: 0.8820 - val_student_loss: 0.0498\n",
      "Epoch 64/100\n",
      "375/375 [==============================] - 9s 23ms/step - sparse_categorical_accuracy: 0.9305 - student_loss: 0.1819 - distillation_loss: 0.0080 - val_sparse_categorical_accuracy: 0.8580 - val_student_loss: 0.1143\n",
      "Epoch 65/100\n",
      "375/375 [==============================] - 9s 23ms/step - sparse_categorical_accuracy: 0.9360 - student_loss: 0.1745 - distillation_loss: 0.0075 - val_sparse_categorical_accuracy: 0.8713 - val_student_loss: 0.0632\n",
      "Epoch 66/100\n",
      "375/375 [==============================] - 9s 23ms/step - sparse_categorical_accuracy: 0.9350 - student_loss: 0.1742 - distillation_loss: 0.0076 - val_sparse_categorical_accuracy: 0.8620 - val_student_loss: 0.0683\n",
      "Epoch 67/100\n",
      "375/375 [==============================] - 9s 23ms/step - sparse_categorical_accuracy: 0.9344 - student_loss: 0.1690 - distillation_loss: 0.0076 - val_sparse_categorical_accuracy: 0.8627 - val_student_loss: 0.0821\n",
      "Epoch 68/100\n",
      "375/375 [==============================] - 9s 23ms/step - sparse_categorical_accuracy: 0.9376 - student_loss: 0.1689 - distillation_loss: 0.0074 - val_sparse_categorical_accuracy: 0.8653 - val_student_loss: 0.0498\n",
      "Epoch 69/100\n",
      "375/375 [==============================] - 9s 23ms/step - sparse_categorical_accuracy: 0.9331 - student_loss: 0.1775 - distillation_loss: 0.0079 - val_sparse_categorical_accuracy: 0.8613 - val_student_loss: 0.1699\n",
      "Epoch 70/100\n",
      "375/375 [==============================] - 9s 23ms/step - sparse_categorical_accuracy: 0.9389 - student_loss: 0.1611 - distillation_loss: 0.0070 - val_sparse_categorical_accuracy: 0.8587 - val_student_loss: 0.1528\n",
      "Epoch 71/100\n",
      "375/375 [==============================] - 9s 23ms/step - sparse_categorical_accuracy: 0.9394 - student_loss: 0.1642 - distillation_loss: 0.0071 - val_sparse_categorical_accuracy: 0.8787 - val_student_loss: 0.0331\n",
      "Epoch 72/100\n",
      "375/375 [==============================] - 9s 23ms/step - sparse_categorical_accuracy: 0.9359 - student_loss: 0.1715 - distillation_loss: 0.0075 - val_sparse_categorical_accuracy: 0.8567 - val_student_loss: 0.1636\n",
      "Epoch 73/100\n",
      "375/375 [==============================] - 9s 23ms/step - sparse_categorical_accuracy: 0.9376 - student_loss: 0.1627 - distillation_loss: 0.0072 - val_sparse_categorical_accuracy: 0.8700 - val_student_loss: 0.0528\n",
      "Epoch 74/100\n",
      "375/375 [==============================] - 9s 23ms/step - sparse_categorical_accuracy: 0.9396 - student_loss: 0.1604 - distillation_loss: 0.0069 - val_sparse_categorical_accuracy: 0.8600 - val_student_loss: 0.0316\n",
      "Epoch 75/100\n",
      "375/375 [==============================] - 9s 23ms/step - sparse_categorical_accuracy: 0.9344 - student_loss: 0.1749 - distillation_loss: 0.0077 - val_sparse_categorical_accuracy: 0.8693 - val_student_loss: 0.0263\n",
      "Epoch 76/100\n",
      "375/375 [==============================] - 9s 23ms/step - sparse_categorical_accuracy: 0.9413 - student_loss: 0.1539 - distillation_loss: 0.0064 - val_sparse_categorical_accuracy: 0.8700 - val_student_loss: 0.0257\n",
      "Epoch 77/100\n",
      "375/375 [==============================] - 9s 23ms/step - sparse_categorical_accuracy: 0.9381 - student_loss: 0.1622 - distillation_loss: 0.0072 - val_sparse_categorical_accuracy: 0.8820 - val_student_loss: 0.0685\n",
      "Epoch 78/100\n",
      "375/375 [==============================] - 9s 23ms/step - sparse_categorical_accuracy: 0.9396 - student_loss: 0.1593 - distillation_loss: 0.0070 - val_sparse_categorical_accuracy: 0.8587 - val_student_loss: 0.0312\n",
      "Epoch 79/100\n",
      "375/375 [==============================] - 8s 23ms/step - sparse_categorical_accuracy: 0.9421 - student_loss: 0.1552 - distillation_loss: 0.0067 - val_sparse_categorical_accuracy: 0.8633 - val_student_loss: 0.0762\n",
      "Epoch 80/100\n",
      "375/375 [==============================] - 9s 23ms/step - sparse_categorical_accuracy: 0.9424 - student_loss: 0.1537 - distillation_loss: 0.0065 - val_sparse_categorical_accuracy: 0.8673 - val_student_loss: 0.0391\n",
      "Epoch 81/100\n",
      "375/375 [==============================] - 9s 23ms/step - sparse_categorical_accuracy: 0.9409 - student_loss: 0.1524 - distillation_loss: 0.0065 - val_sparse_categorical_accuracy: 0.8520 - val_student_loss: 0.1433\n",
      "Epoch 82/100\n",
      "375/375 [==============================] - 9s 23ms/step - sparse_categorical_accuracy: 0.9421 - student_loss: 0.1545 - distillation_loss: 0.0065 - val_sparse_categorical_accuracy: 0.8800 - val_student_loss: 0.0308\n",
      "Epoch 83/100\n",
      "375/375 [==============================] - 9s 23ms/step - sparse_categorical_accuracy: 0.9419 - student_loss: 0.1472 - distillation_loss: 0.0064 - val_sparse_categorical_accuracy: 0.8653 - val_student_loss: 0.1975\n",
      "Epoch 84/100\n",
      "375/375 [==============================] - 9s 23ms/step - sparse_categorical_accuracy: 0.9426 - student_loss: 0.1537 - distillation_loss: 0.0065 - val_sparse_categorical_accuracy: 0.8647 - val_student_loss: 0.1657\n",
      "Epoch 85/100\n",
      "375/375 [==============================] - 8s 22ms/step - sparse_categorical_accuracy: 0.9421 - student_loss: 0.1513 - distillation_loss: 0.0065 - val_sparse_categorical_accuracy: 0.8660 - val_student_loss: 0.0556\n",
      "Epoch 86/100\n",
      "375/375 [==============================] - 8s 22ms/step - sparse_categorical_accuracy: 0.9473 - student_loss: 0.1457 - distillation_loss: 0.0060 - val_sparse_categorical_accuracy: 0.8700 - val_student_loss: 0.1359\n",
      "Epoch 87/100\n",
      "375/375 [==============================] - 9s 23ms/step - sparse_categorical_accuracy: 0.9458 - student_loss: 0.1404 - distillation_loss: 0.0059 - val_sparse_categorical_accuracy: 0.8840 - val_student_loss: 0.0699\n",
      "Epoch 88/100\n",
      "375/375 [==============================] - 9s 23ms/step - sparse_categorical_accuracy: 0.9426 - student_loss: 0.1478 - distillation_loss: 0.0063 - val_sparse_categorical_accuracy: 0.8613 - val_student_loss: 0.1865\n",
      "Epoch 89/100\n",
      "375/375 [==============================] - 9s 23ms/step - sparse_categorical_accuracy: 0.9436 - student_loss: 0.1474 - distillation_loss: 0.0064 - val_sparse_categorical_accuracy: 0.8667 - val_student_loss: 0.0745\n",
      "Epoch 90/100\n",
      "375/375 [==============================] - 8s 22ms/step - sparse_categorical_accuracy: 0.9460 - student_loss: 0.1414 - distillation_loss: 0.0061 - val_sparse_categorical_accuracy: 0.8793 - val_student_loss: 0.1277\n",
      "Epoch 91/100\n",
      "375/375 [==============================] - 8s 22ms/step - sparse_categorical_accuracy: 0.9441 - student_loss: 0.1504 - distillation_loss: 0.0063 - val_sparse_categorical_accuracy: 0.8533 - val_student_loss: 0.1407\n",
      "Epoch 92/100\n",
      "375/375 [==============================] - 8s 22ms/step - sparse_categorical_accuracy: 0.9479 - student_loss: 0.1388 - distillation_loss: 0.0058 - val_sparse_categorical_accuracy: 0.8760 - val_student_loss: 0.0311\n",
      "Epoch 93/100\n",
      "375/375 [==============================] - 8s 22ms/step - sparse_categorical_accuracy: 0.9453 - student_loss: 0.1433 - distillation_loss: 0.0061 - val_sparse_categorical_accuracy: 0.8707 - val_student_loss: 0.1337\n",
      "Epoch 94/100\n",
      "375/375 [==============================] - 8s 22ms/step - sparse_categorical_accuracy: 0.9481 - student_loss: 0.1309 - distillation_loss: 0.0054 - val_sparse_categorical_accuracy: 0.8773 - val_student_loss: 0.1433\n",
      "Epoch 95/100\n",
      "375/375 [==============================] - 8s 22ms/step - sparse_categorical_accuracy: 0.9482 - student_loss: 0.1394 - distillation_loss: 0.0058 - val_sparse_categorical_accuracy: 0.8627 - val_student_loss: 0.0785\n",
      "Epoch 96/100\n",
      "375/375 [==============================] - 8s 22ms/step - sparse_categorical_accuracy: 0.9441 - student_loss: 0.1434 - distillation_loss: 0.0062 - val_sparse_categorical_accuracy: 0.8747 - val_student_loss: 0.0897\n",
      "Epoch 97/100\n",
      "375/375 [==============================] - 8s 22ms/step - sparse_categorical_accuracy: 0.9472 - student_loss: 0.1399 - distillation_loss: 0.0059 - val_sparse_categorical_accuracy: 0.8793 - val_student_loss: 0.0649\n",
      "Epoch 98/100\n",
      "375/375 [==============================] - 8s 22ms/step - sparse_categorical_accuracy: 0.9476 - student_loss: 0.1376 - distillation_loss: 0.0058 - val_sparse_categorical_accuracy: 0.8713 - val_student_loss: 0.0939\n",
      "Epoch 99/100\n",
      "375/375 [==============================] - 8s 23ms/step - sparse_categorical_accuracy: 0.9471 - student_loss: 0.1397 - distillation_loss: 0.0059 - val_sparse_categorical_accuracy: 0.8753 - val_student_loss: 0.1015\n",
      "Epoch 100/100\n",
      "375/375 [==============================] - 9s 23ms/step - sparse_categorical_accuracy: 0.9471 - student_loss: 0.1371 - distillation_loss: 0.0058 - val_sparse_categorical_accuracy: 0.8813 - val_student_loss: 0.0815\n"
     ]
    }
   ],
   "source": [
    "distiller = Distiller(student=student, teacher=teacher)\n",
    "distiller.compile(\n",
    "    optimizer=Adam(),\n",
    "    metrics=[keras.metrics.SparseCategoricalAccuracy()],\n",
    "    student_loss_fn=keras.losses.SparseCategoricalCrossentropy(from_logits=True),\n",
    "    distillation_loss_fn=keras.losses.KLDivergence(),\n",
    "    alpha=0.1,\n",
    "    temperature=10,\n",
    ")\n",
    "\n",
    "# Distill teacher to student and store the training history\n",
    "history_distill = distiller.fit(X_train, y_train, epochs=100, validation_data=(X_validation, y_validation))\n"
   ]
  },
  {
   "cell_type": "code",
   "execution_count": 82,
   "id": "403b2d02",
   "metadata": {},
   "outputs": [
    {
     "name": "stdout",
     "output_type": "stream",
     "text": [
      "47/47 [==============================] - 0s 7ms/step - sparse_categorical_accuracy: 0.8820 - student_loss: 0.4209\n"
     ]
    }
   ],
   "source": [
    "evaluation_result = distiller.evaluate(X_test, y_test)"
   ]
  },
  {
   "cell_type": "code",
   "execution_count": 83,
   "id": "6422b228",
   "metadata": {},
   "outputs": [
    {
     "data": {
      "image/png": "[encoded data removed]",
      "text/plain": [
       "<Figure size 800x600 with 2 Axes>"
      ]
     },
     "metadata": {},
     "output_type": "display_data"
    },
    {
     "name": "stdout",
     "output_type": "stream",
     "text": [
      "Classification Report:\n",
      "              precision    recall  f1-score   support\n",
      "\n",
      "           0       0.91      0.79      0.85       321\n",
      "           1       0.82      0.86      0.84       269\n",
      "           2       0.84      0.93      0.88       286\n",
      "           3       0.84      0.87      0.86       278\n",
      "           4       0.98      0.95      0.97       346\n",
      "\n",
      "    accuracy                           0.88      1500\n",
      "   macro avg       0.88      0.88      0.88      1500\n",
      "weighted avg       0.88      0.88      0.88      1500\n",
      "\n"
     ]
    }
   ],
   "source": [
    "import numpy as np\n",
    "from sklearn.metrics import confusion_matrix, classification_report\n",
    "import seaborn as sns\n",
    "\n",
    "y_pred_distill = np.argmax(distiller.predict(X_test), axis=1)\n",
    "\n",
    "# True labels\n",
    "y_true = y_test\n",
    "\n",
    "# Create confusion matrix\n",
    "cm = confusion_matrix(y_true, y_pred_distill)\n",
    "\n",
    "plt.figure(figsize=(8, 6))\n",
    "sns.heatmap(cm, annot=True, fmt='d', cmap='Blues', xticklabels=np.unique(y_true), yticklabels=np.unique(y_true))\n",
    "plt.title('Confusion Matrix')\n",
    "plt.xlabel('Predicted Label')\n",
    "plt.ylabel('True Label')\n",
    "plt.show()\n",
    "\n",
    "# Print classification report\n",
    "print(\"Classification Report:\")\n",
    "print(classification_report(y_true, y_pred_distill))"
   ]
  },
  {
   "cell_type": "code",
   "execution_count": 105,
   "id": "bc3eb030",
   "metadata": {},
   "outputs": [
    {
     "name": "stdout",
     "output_type": "stream",
     "text": [
      "WARNING:tensorflow:Compiled the loaded model, but the compiled metrics have yet to be built. `model.compile_metrics` will be empty until you train or evaluate the model.\n"
     ]
    }
   ],
   "source": [
    "# Save the student model as a .keras file\n",
    "distiller.student.save('CRNN_student_model.keras')"
   ]
  },
  {
   "cell_type": "code",
   "execution_count": 85,
   "id": "451d864b",
   "metadata": {},
   "outputs": [
    {
     "data": {
      "image/png": "[encoded data removed]",
      "text/plain": [
       "<Figure size 640x480 with 1 Axes>"
      ]
     },
     "metadata": {},
     "output_type": "display_data"
    },
    {
     "data": {
      "image/png": "[encoded data removed]",
      "text/plain": [
       "<Figure size 640x480 with 1 Axes>"
      ]
     },
     "metadata": {},
     "output_type": "display_data"
    }
   ],
   "source": [
    "# Plotting training and validation accuracy\n",
    "plt.plot(history_distill.history['sparse_categorical_accuracy'], label='Training Accuracy')\n",
    "plt.plot(history_distill.history['val_sparse_categorical_accuracy'], label='Validation Accuracy')\n",
    "plt.xlabel('Epoch')\n",
    "plt.ylabel('Accuracy')\n",
    "plt.title('Training and Validation Accuracy')\n",
    "plt.legend()\n",
    "plt.show()\n",
    "\n",
    "# Plotting training and validation loss\n",
    "plt.plot(history_distill.history['student_loss'], label='Training Loss')\n",
    "plt.plot(history_distill.history['val_student_loss'], label='Validation Loss')\n",
    "plt.xlabel('Epoch')\n",
    "plt.ylabel('Loss')\n",
    "plt.title('Training and Validation Loss')\n",
    "plt.legend()\n",
    "plt.show()"
   ]
  },
  {
   "cell_type": "markdown",
   "id": "80c2e6f6",
   "metadata": {},
   "source": [
    "## Testing on short utterance"
   ]
  },
  {
   "cell_type": "code",
   "execution_count": 86,
   "id": "e1ee850d",
   "metadata": {},
   "outputs": [],
   "source": [
    "test_dir = 'LongShortUtteranceData/'"
   ]
  },
  {
   "cell_type": "code",
   "execution_count": 87,
   "id": "e0d99382",
   "metadata": {},
   "outputs": [
    {
     "data": {
      "text/html": [
       "<div>\n",
       "<style scoped>\n",
       "    .dataframe tbody tr th:only-of-type {\n",
       "        vertical-align: middle;\n",
       "    }\n",
       "\n",
       "    .dataframe tbody tr th {\n",
       "        vertical-align: top;\n",
       "    }\n",
       "\n",
       "    .dataframe thead th {\n",
       "        text-align: right;\n",
       "    }\n",
       "</style>\n",
       "<table border=\"1\" class=\"dataframe\">\n",
       "  <thead>\n",
       "    <tr style=\"text-align: right;\">\n",
       "      <th></th>\n",
       "      <th>FileName</th>\n",
       "      <th>Label</th>\n",
       "    </tr>\n",
       "  </thead>\n",
       "  <tbody>\n",
       "    <tr>\n",
       "      <th>0</th>\n",
       "      <td>common_voice_en_38487409.wav</td>\n",
       "      <td>English</td>\n",
       "    </tr>\n",
       "    <tr>\n",
       "      <th>1</th>\n",
       "      <td>common_voice_en_38487410.wav</td>\n",
       "      <td>English</td>\n",
       "    </tr>\n",
       "    <tr>\n",
       "      <th>2</th>\n",
       "      <td>common_voice_en_38487420.wav</td>\n",
       "      <td>English</td>\n",
       "    </tr>\n",
       "    <tr>\n",
       "      <th>3</th>\n",
       "      <td>common_voice_en_38487556.wav</td>\n",
       "      <td>English</td>\n",
       "    </tr>\n",
       "    <tr>\n",
       "      <th>4</th>\n",
       "      <td>common_voice_en_38491060.wav</td>\n",
       "      <td>English</td>\n",
       "    </tr>\n",
       "  </tbody>\n",
       "</table>\n",
       "</div>"
      ],
      "text/plain": [
       "                       FileName    Label\n",
       "0  common_voice_en_38487409.wav  English\n",
       "1  common_voice_en_38487410.wav  English\n",
       "2  common_voice_en_38487420.wav  English\n",
       "3  common_voice_en_38487556.wav  English\n",
       "4  common_voice_en_38491060.wav  English"
      ]
     },
     "execution_count": 87,
     "metadata": {},
     "output_type": "execute_result"
    }
   ],
   "source": [
    "test_df = pd.read_csv(\"Total_short_Utterance_file.csv\")\n",
    "test_df.head()"
   ]
  },
  {
   "cell_type": "code",
   "execution_count": 88,
   "id": "1be7e45b",
   "metadata": {},
   "outputs": [],
   "source": [
    "mfccs_list_test = []\n",
    "labels_test = []"
   ]
  },
  {
   "cell_type": "code",
   "execution_count": 89,
   "id": "4c66dce8",
   "metadata": {},
   "outputs": [
    {
     "name": "stderr",
     "output_type": "stream",
     "text": [
      "C:\\Users\\ASUS\\AppData\\Local\\Temp\\ipykernel_22052\\1168826159.py:3: FutureWarning: get_duration() keyword argument 'filename' has been renamed to 'path' in version 0.10.0.\n",
      "\tThis alias will be removed in version 1.0.\n",
      "  audio_duration = librosa.get_duration(filename=file_path)\n",
      "C:\\Users\\ASUS\\anaconda3\\envs\\LocalGpu\\lib\\site-packages\\librosa\\core\\spectrum.py:266: UserWarning: n_fft=512 is too large for input signal of length=320\n",
      "  warnings.warn(\n"
     ]
    }
   ],
   "source": [
    "for index, row in test_df.iterrows():\n",
    "    file_path = os.path.join(test_dir, row['FileName'])\n",
    "    audio_duration = librosa.get_duration(filename=file_path)\n",
    "    \n",
    "    offset = 0\n",
    "    while offset < audio_duration:\n",
    "        end_time = min(offset + 2.5, audio_duration)  # Ensure end_time does not exceed audio duration\n",
    "        mfccs = load_and_preprocess(file_path, offset, end_time)\n",
    "        mfccs_list_test.append(mfccs)\n",
    "        labels_test.append(row['Label'])\n",
    "        offset += 2.5"
   ]
  },
  {
   "cell_type": "code",
   "execution_count": 90,
   "id": "60aa22f3",
   "metadata": {},
   "outputs": [
    {
     "name": "stdout",
     "output_type": "stream",
     "text": [
      "4645\n",
      "4645\n"
     ]
    }
   ],
   "source": [
    "print(len(mfccs_list_test))\n",
    "print(len(labels_test))"
   ]
  },
  {
   "cell_type": "code",
   "execution_count": 91,
   "id": "950299ef",
   "metadata": {},
   "outputs": [
    {
     "name": "stdout",
     "output_type": "stream",
     "text": [
      "(4645, 157, 13)\n"
     ]
    }
   ],
   "source": [
    "\n",
    "padded_mfccs_test = pad_sequences(mfccs_list_test, dtype='float32', padding='post', truncating='post')\n",
    "\n",
    "print(padded_mfccs_test.shape)"
   ]
  },
  {
   "cell_type": "code",
   "execution_count": 92,
   "id": "bc73752f",
   "metadata": {},
   "outputs": [],
   "source": [
    "mfccs_array_test = np.array(padded_mfccs_test)"
   ]
  },
  {
   "cell_type": "code",
   "execution_count": 93,
   "id": "a3c83368",
   "metadata": {},
   "outputs": [],
   "source": [
    "# Flatten MFCCs array to 2D\n",
    "mfccs_flattened_test = mfccs_array_test.reshape(-1, mfccs_array.shape[-1]) "
   ]
  },
  {
   "cell_type": "code",
   "execution_count": 94,
   "id": "5b234d36",
   "metadata": {},
   "outputs": [],
   "source": [
    "mfccs_scaled_test = scaler.fit_transform(mfccs_flattened_test)"
   ]
  },
  {
   "cell_type": "code",
   "execution_count": 95,
   "id": "7e093fa2",
   "metadata": {},
   "outputs": [],
   "source": [
    "# data back to 3D\n",
    "mfccs_scaled_3d_test = mfccs_scaled_test.reshape(mfccs_array_test.shape[0], mfccs_array_test.shape[1], mfccs_array_test.shape[2])"
   ]
  },
  {
   "cell_type": "code",
   "execution_count": 96,
   "id": "0d8c5e04",
   "metadata": {},
   "outputs": [],
   "source": [
    "X_test_short = np.array(mfccs_scaled_3d_test)\n",
    "y_test_short = np.array(labels_test)"
   ]
  },
  {
   "cell_type": "code",
   "execution_count": 97,
   "id": "0807a561",
   "metadata": {},
   "outputs": [],
   "source": [
    "X_test_short_reshaped = X_test_short.reshape(-1, 157, 13, 1)\n"
   ]
  },
  {
   "cell_type": "code",
   "execution_count": 98,
   "id": "2575b7aa",
   "metadata": {},
   "outputs": [
    {
     "data": {
      "text/plain": [
       "(4645, 157, 13, 1)"
      ]
     },
     "execution_count": 98,
     "metadata": {},
     "output_type": "execute_result"
    }
   ],
   "source": [
    "X_test_short_reshaped.shape"
   ]
  },
  {
   "cell_type": "code",
   "execution_count": 99,
   "id": "113b9960",
   "metadata": {},
   "outputs": [
    {
     "data": {
      "text/plain": [
       "4645"
      ]
     },
     "execution_count": 99,
     "metadata": {},
     "output_type": "execute_result"
    }
   ],
   "source": [
    "le = LabelEncoder()\n",
    "y_encoded = le.fit_transform(y_test_short)\n",
    "len(y_encoded)"
   ]
  },
  {
   "cell_type": "code",
   "execution_count": 100,
   "id": "e72b847a",
   "metadata": {},
   "outputs": [],
   "source": [
    "#saving the testing arays \n",
    "\n",
    "np.save('2D_CNN_X_test_short.npy', X_test_short_reshaped)\n",
    "np.save('2D_CNN_y_test_short.npy', y_encoded)"
   ]
  },
  {
   "cell_type": "code",
   "execution_count": 101,
   "id": "524892c1",
   "metadata": {},
   "outputs": [
    {
     "name": "stderr",
     "output_type": "stream",
     "text": [
      "C:\\Users\\ASUS\\anaconda3\\envs\\LocalGpu\\lib\\site-packages\\keras\\backend.py:4906: UserWarning: \"`sparse_categorical_crossentropy` received `from_logits=True`, but the `output` argument was produced by a sigmoid or softmax activation and thus does not represent logits. Was this intended?\"\n",
      "  warnings.warn(\n"
     ]
    },
    {
     "name": "stdout",
     "output_type": "stream",
     "text": [
      "146/146 [==============================] - 2s 9ms/step - loss: 2.1161 - sparse_categorical_accuracy: 0.6439\n"
     ]
    }
   ],
   "source": [
    "evaluation_result = teacher.evaluate(X_test_short_reshaped, y_encoded)\n"
   ]
  },
  {
   "cell_type": "code",
   "execution_count": 102,
   "id": "007fbe9a",
   "metadata": {},
   "outputs": [
    {
     "data": {
      "image/png": "[encoded data removed]",
      "text/plain": [
       "<Figure size 800x600 with 2 Axes>"
      ]
     },
     "metadata": {},
     "output_type": "display_data"
    },
    {
     "name": "stdout",
     "output_type": "stream",
     "text": [
      "Classification Report:\n",
      "              precision    recall  f1-score   support\n",
      "\n",
      "           0       0.62      0.51      0.56       970\n",
      "           1       0.52      0.73      0.61       974\n",
      "           2       0.69      0.61      0.65       964\n",
      "           3       0.67      0.86      0.75       743\n",
      "           4       0.84      0.56      0.67       994\n",
      "\n",
      "    accuracy                           0.64      4645\n",
      "   macro avg       0.67      0.65      0.65      4645\n",
      "weighted avg       0.67      0.64      0.64      4645\n",
      "\n"
     ]
    }
   ],
   "source": [
    "y_pred_teacher = np.argmax(teacher.predict(X_test_short_reshaped), axis=1)\n",
    "\n",
    "# True labels\n",
    "y_true = y_encoded\n",
    "\n",
    "# Create confusion matrix\n",
    "cm = confusion_matrix(y_encoded, y_pred_teacher)\n",
    "\n",
    "plt.figure(figsize=(8, 6))\n",
    "sns.heatmap(cm, annot=True, fmt='d', cmap='Blues', xticklabels=np.unique(y_true), yticklabels=np.unique(y_true))\n",
    "plt.title('Confusion Matrix')\n",
    "plt.xlabel('Predicted Label')\n",
    "plt.ylabel('True Label')\n",
    "plt.show()\n",
    "\n",
    "# Print classification report\n",
    "print(\"Classification Report:\")\n",
    "print(classification_report(y_true, y_pred_teacher))"
   ]
  },
  {
   "cell_type": "code",
   "execution_count": 103,
   "id": "5efddbf0",
   "metadata": {},
   "outputs": [
    {
     "name": "stdout",
     "output_type": "stream",
     "text": [
      "  1/146 [..............................] - ETA: 1:28 - sparse_categorical_accuracy: 0.4375 - student_loss: 2.3263"
     ]
    },
    {
     "name": "stderr",
     "output_type": "stream",
     "text": [
      "C:\\Users\\ASUS\\anaconda3\\envs\\LocalGpu\\lib\\site-packages\\keras\\backend.py:4906: UserWarning: \"`sparse_categorical_crossentropy` received `from_logits=True`, but the `output` argument was produced by a sigmoid or softmax activation and thus does not represent logits. Was this intended?\"\n",
      "  warnings.warn(\n"
     ]
    },
    {
     "name": "stdout",
     "output_type": "stream",
     "text": [
      "146/146 [==============================] - 2s 7ms/step - sparse_categorical_accuracy: 0.6321 - student_loss: 1.7862\n"
     ]
    }
   ],
   "source": [
    "evaluation_result = distiller.evaluate(X_test_short_reshaped, y_encoded)"
   ]
  },
  {
   "cell_type": "code",
   "execution_count": 104,
   "id": "87c07e00",
   "metadata": {
    "scrolled": false
   },
   "outputs": [
    {
     "data": {
      "image/png": "[encoded data removed]",
      "text/plain": [
       "<Figure size 800x600 with 2 Axes>"
      ]
     },
     "metadata": {},
     "output_type": "display_data"
    },
    {
     "name": "stdout",
     "output_type": "stream",
     "text": [
      "Classification Report:\n",
      "              precision    recall  f1-score   support\n",
      "\n",
      "           0       0.73      0.42      0.53       970\n",
      "           1       0.48      0.78      0.59       974\n",
      "           2       0.65      0.63      0.64       964\n",
      "           3       0.65      0.89      0.75       743\n",
      "           4       0.90      0.51      0.65       994\n",
      "\n",
      "    accuracy                           0.63      4645\n",
      "   macro avg       0.68      0.64      0.63      4645\n",
      "weighted avg       0.69      0.63      0.63      4645\n",
      "\n"
     ]
    }
   ],
   "source": [
    "\n",
    "y_pred_student = np.argmax(distiller.predict(X_test_short_reshaped), axis=1)\n",
    "\n",
    "# True labels\n",
    "y_true = y_encoded\n",
    "\n",
    "# Create confusion matrix\n",
    "cm = confusion_matrix(y_encoded, y_pred_student)\n",
    "\n",
    "plt.figure(figsize=(8, 6))\n",
    "sns.heatmap(cm, annot=True, fmt='d', cmap='Blues', xticklabels=np.unique(y_true), yticklabels=np.unique(y_true))\n",
    "plt.title('Confusion Matrix')\n",
    "plt.xlabel('Predicted Label')\n",
    "plt.ylabel('True Label')\n",
    "plt.show()\n",
    "\n",
    "# Print classification report\n",
    "print(\"Classification Report:\")\n",
    "print(classification_report(y_true, y_pred_student))"
   ]
  },
  {
   "cell_type": "code",
   "execution_count": 67,
   "id": "4af94c39",
   "metadata": {},
   "outputs": [],
   "source": [
    "X_test_short_loaded = np.load('2D_CNN_X_test_short.npy')\n",
    "y_test_short_loaded = np.load('2D_CNN_y_test_short.npy')"
   ]
  },
  {
   "cell_type": "code",
   "execution_count": 68,
   "id": "199fcddf",
   "metadata": {},
   "outputs": [
    {
     "data": {
      "text/plain": [
       "(4645, 157, 13, 1)"
      ]
     },
     "execution_count": 68,
     "metadata": {},
     "output_type": "execute_result"
    }
   ],
   "source": [
    "X_test_short_loaded.shape"
   ]
  }
 ],
 "metadata": {
  "kernelspec": {
   "display_name": "Python 3 (ipykernel)",
   "language": "python",
   "name": "python3"
  },
  "language_info": {
   "codemirror_mode": {
    "name": "ipython",
    "version": 3
   },
   "file_extension": ".py",
   "mimetype": "text/x-python",
   "name": "python",
   "nbconvert_exporter": "python",
   "pygments_lexer": "ipython3",
   "version": "3.9.16"
  }
 },
 "nbformat": 4,
 "nbformat_minor": 5
}
